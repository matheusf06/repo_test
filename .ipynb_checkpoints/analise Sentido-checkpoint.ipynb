{
 "cells": [
  {
   "cell_type": "code",
   "execution_count": 1,
   "metadata": {
    "scrolled": true
   },
   "outputs": [
    {
     "name": "stderr",
     "output_type": "stream",
     "text": [
      "/home/matheus/snap/jupyter/common/lib/python3.7/site-packages/joblib/_multiprocessing_helpers.py:45: UserWarning: [Errno 13] Permission denied.  joblib will operate in serial mode\n",
      "  warnings.warn('%s.  joblib will operate in serial mode' % (e,))\n"
     ]
    }
   ],
   "source": [
    "import nltk\n",
    "import re\n",
    "import pandas as pd"
   ]
  },
  {
   "cell_type": "code",
   "execution_count": 2,
   "metadata": {},
   "outputs": [],
   "source": [
    "cabecalho = ['Id','Texto','Sentido']\n",
    "dados = pd.read_csv(\"/home/matheus/jupyter/file1.csv\", sep=';', names=cabecalho,index_col = 0)"
   ]
  },
  {
   "cell_type": "code",
   "execution_count": 3,
   "metadata": {},
   "outputs": [
    {
     "name": "stdout",
     "output_type": "stream",
     "text": [
      "                                    Texto  Sentido\n",
      "Id                                                \n",
      "1    nao tenho conta no banco do bradesco        0\n",
      "2              ele tem 850 reais no banco        0\n",
      "3       ontem fui ao banco sacar dinheiro        0\n",
      "4                     amanhã vou ao banco        0\n",
      "5     ele estava sentado no banco de traz        1\n",
      "6                        comprei um banco        1\n",
      "7   esqueci minha bolsa no banco do carro        1\n",
      "8                sentei no banco da praça        1\n"
     ]
    }
   ],
   "source": [
    "print(dados)"
   ]
  },
  {
   "cell_type": "code",
   "execution_count": 4,
   "metadata": {},
   "outputs": [
    {
     "data": {
      "text/plain": [
       "1    4\n",
       "0    4\n",
       "Name: Sentido, dtype: int64"
      ]
     },
     "execution_count": 4,
     "metadata": {},
     "output_type": "execute_result"
    }
   ],
   "source": [
    "dados.Sentido.value_counts()"
   ]
  },
  {
   "cell_type": "code",
   "execution_count": 5,
   "metadata": {},
   "outputs": [
    {
     "name": "stdout",
     "output_type": "stream",
     "text": [
      "Textos ['nao tenho conta no banco do bradesco' 'ele tem 850 reais no banco'\n",
      " 'ontem fui ao banco sacar dinheiro' 'amanhã vou ao banco'\n",
      " 'ele estava sentado no banco de traz' 'comprei um banco'\n",
      " 'esqueci minha bolsa no banco do carro' 'sentei no banco da praça']\n",
      "Classes [0 0 0 0 1 1 1 1]\n"
     ]
    }
   ],
   "source": [
    "dados_text = dados[\"Texto\"].values\n",
    "classes = dados['Sentido'].values\n",
    "print(\"Textos\", dados_text)\n",
    "print(\"Classes\", classes)"
   ]
  },
  {
   "cell_type": "code",
   "execution_count": 6,
   "metadata": {},
   "outputs": [],
   "source": [
    "from sklearn.feature_extraction.text import CountVectorizer\n",
    "\n",
    "vectorizer = CountVectorizer(ngram_range = (1, 1))\n",
    "freq_text = vectorizer.fit_transform(dados_text)"
   ]
  },
  {
   "cell_type": "code",
   "execution_count": 8,
   "metadata": {},
   "outputs": [
    {
     "name": "stdout",
     "output_type": "stream",
     "text": [
      "Entrada:\n",
      "['quero comprar um banco azul']\n",
      "Resposta\n",
      "Banco usado para senta\n"
     ]
    }
   ],
   "source": [
    "from sklearn.naive_bayes import MultinomialNB\n",
    "\n",
    "#Criando um modelo\n",
    "#Criando a variável modelo e atribuindo a ele o objeto MultinomialNB, criamos assim o nosso modelo.\n",
    "modelo = MultinomialNB()\n",
    "#Ajustando o modelo para usar os dados \n",
    "modelo.fit(freq_text, classes)\n",
    "\n",
    "teste = [\"quero comprar um banco azul\"]\n",
    "\n",
    "freq_teste = vectorizer.transform(teste)\n",
    "\n",
    "if modelo.predict(freq_teste) == 1 :\n",
    "    print(\"Entrada:\")\n",
    "    print(teste)\n",
    "    print(\"Resposta\")\n",
    "    print(\"Banco usado para senta\")\n",
    "else:\n",
    "    print(\"Entrada:\")\n",
    "    print(teste)\n",
    "    print(\"Resposta\")\n",
    "    print(\"Banco onde saca dinheiro\")"
   ]
  },
  {
   "cell_type": "code",
   "execution_count": 9,
   "metadata": {},
   "outputs": [
    {
     "name": "stdout",
     "output_type": "stream",
     "text": [
      "Entrada:\n",
      "['Preciso de 500 reais para pagar uma conta no banco amanha']\n",
      "Resposta\n",
      "Banco onde saca dinheiro\n"
     ]
    }
   ],
   "source": [
    "teste = [\"Preciso de 500 reais para pagar uma conta no banco amanha\"]\n",
    "\n",
    "freq_teste = vectorizer.transform(teste)\n",
    "\n",
    "if modelo.predict(freq_teste) == 1 :\n",
    "    print(\"Entrada:\")\n",
    "    print(teste)\n",
    "    print(\"Resposta\")\n",
    "    print(\"Banco usado para senta\")\n",
    "else:\n",
    "    print(\"Entrada:\")\n",
    "    print(teste)\n",
    "    print(\"Resposta\")\n",
    "    print(\"Banco onde saca dinheiro\")"
   ]
  },
  {
   "cell_type": "code",
   "execution_count": 10,
   "metadata": {},
   "outputs": [
    {
     "name": "stdout",
     "output_type": "stream",
     "text": [
      "Entrada:\n",
      "['esqueci minhas coisas no banco de traz do seu carro']\n",
      "Resposta\n",
      "Banco usado para senta\n"
     ]
    }
   ],
   "source": [
    "teste = [\"esqueci minhas coisas no banco de traz do seu carro\"]\n",
    "\n",
    "freq_teste = vectorizer.transform(teste)\n",
    "\n",
    "if modelo.predict(freq_teste) == 1 :\n",
    "    print(\"Entrada:\")\n",
    "    print(teste)\n",
    "    print(\"Resposta\")\n",
    "    print(\"Banco usado para senta\")\n",
    "else:\n",
    "    print(\"Entrada:\")\n",
    "    print(teste)\n",
    "    print(\"Resposta\")\n",
    "    print(\"Banco onde saca dinheiro\")"
   ]
  },
  {
   "cell_type": "code",
   "execution_count": 11,
   "metadata": {},
   "outputs": [
    {
     "name": "stdout",
     "output_type": "stream",
     "text": [
      "Entrada:\n",
      "['minha tia precisa ir ao banco amanha']\n",
      "Resposta\n",
      "Banco onde saca dinheiro\n"
     ]
    }
   ],
   "source": [
    "teste = [\"minha tia precisa ir ao banco amanha\"]\n",
    "\n",
    "freq_teste = vectorizer.transform(teste)\n",
    "\n",
    "if modelo.predict(freq_teste) == 1 :\n",
    "    print(\"Entrada:\")\n",
    "    print(teste)\n",
    "    print(\"Resposta\")\n",
    "    print(\"Banco usado para senta\")\n",
    "else:\n",
    "    print(\"Entrada:\")\n",
    "    print(teste)\n",
    "    print(\"Resposta\")\n",
    "    print(\"Banco onde saca dinheiro\")"
   ]
  },
  {
   "cell_type": "code",
   "execution_count": 12,
   "metadata": {},
   "outputs": [
    {
     "name": "stdout",
     "output_type": "stream",
     "text": [
      "Entrada:\n",
      "['o banco do carro esta frouxo, precisamos concertar! ']\n",
      "Resposta\n",
      "Banco usado para senta\n"
     ]
    }
   ],
   "source": [
    "teste = [\"o banco do carro esta frouxo, precisamos concertar! \"]\n",
    "\n",
    "freq_teste = vectorizer.transform(teste)\n",
    "\n",
    "if modelo.predict(freq_teste) == 1 :\n",
    "    print(\"Entrada:\")\n",
    "    print(teste)\n",
    "    print(\"Resposta\")\n",
    "    print(\"Banco usado para senta\")\n",
    "else:\n",
    "    print(\"Entrada:\")\n",
    "    print(teste)\n",
    "    print(\"Resposta\")\n",
    "    print(\"Banco onde saca dinheiro\")"
   ]
  },
  {
   "cell_type": "code",
   "execution_count": 13,
   "metadata": {},
   "outputs": [
    {
     "name": "stdout",
     "output_type": "stream",
     "text": [
      "Entrada:\n",
      "['comprei um banquinho no supermercado']\n",
      "Resposta\n",
      "Banco usado para senta\n"
     ]
    }
   ],
   "source": [
    "teste = [\"comprei um banquinho no supermercado\"]\n",
    "\n",
    "freq_teste = vectorizer.transform(teste)\n",
    "\n",
    "if modelo.predict(freq_teste) == 1 :\n",
    "    print(\"Entrada:\")\n",
    "    print(teste)\n",
    "    print(\"Resposta\")\n",
    "    print(\"Banco usado para senta\")\n",
    "else:\n",
    "    print(\"Entrada:\")\n",
    "    print(teste)\n",
    "    print(\"Resposta\")\n",
    "    print(\"Banco onde saca dinheiro\")"
   ]
  },
  {
   "cell_type": "code",
   "execution_count": 14,
   "metadata": {},
   "outputs": [
    {
     "name": "stdout",
     "output_type": "stream",
     "text": [
      "Entrada:\n",
      "['E eu então? Comprei um banquinho e um violão, vou aprender uns acordes até o dia 22 de março.']\n",
      "Resposta\n",
      "Banco usado para senta\n"
     ]
    }
   ],
   "source": [
    "teste = [\"E eu então? Comprei um banquinho e um violão, vou aprender uns acordes até o dia 22 de março.\"]\n",
    "\n",
    "freq_teste = vectorizer.transform(teste)\n",
    "\n",
    "if modelo.predict(freq_teste) == 1 :\n",
    "    print(\"Entrada:\")\n",
    "    print(teste)\n",
    "    print(\"Resposta\")\n",
    "    print(\"Banco usado para senta\")\n",
    "else:\n",
    "    print(\"Entrada:\")\n",
    "    print(teste)\n",
    "    print(\"Resposta\")\n",
    "    print(\"Banco onde saca dinheiro\")"
   ]
  },
  {
   "cell_type": "code",
   "execution_count": 15,
   "metadata": {},
   "outputs": [
    {
     "name": "stdout",
     "output_type": "stream",
     "text": [
      "Entrada:\n",
      "['Comprei um banquinho a menos de 3 meses e quando fui sentar ele quebrou e eu caí com tudo no chão']\n",
      "Resposta\n",
      "Banco usado para senta\n"
     ]
    }
   ],
   "source": [
    "teste = [\"Comprei um banquinho a menos de 3 meses e quando fui sentar ele quebrou e eu caí com tudo no chão\"]\n",
    "\n",
    "freq_teste = vectorizer.transform(teste)\n",
    "\n",
    "if modelo.predict(freq_teste) == 1 :\n",
    "    print(\"Entrada:\")\n",
    "    print(teste)\n",
    "    print(\"Resposta\")\n",
    "    print(\"Banco usado para senta\")\n",
    "else:\n",
    "    print(\"Entrada:\")\n",
    "    print(teste)\n",
    "    print(\"Resposta\")\n",
    "    print(\"Banco onde saca dinheiro\")"
   ]
  },
  {
   "cell_type": "code",
   "execution_count": null,
   "metadata": {},
   "outputs": [],
   "source": []
  }
 ],
 "metadata": {
  "kernelspec": {
   "display_name": "Python 3",
   "language": "python",
   "name": "python3"
  },
  "language_info": {
   "codemirror_mode": {
    "name": "ipython",
    "version": 3
   },
   "file_extension": ".py",
   "mimetype": "text/x-python",
   "name": "python",
   "nbconvert_exporter": "python",
   "pygments_lexer": "ipython3",
   "version": "3.7.3"
  }
 },
 "nbformat": 4,
 "nbformat_minor": 2
}
