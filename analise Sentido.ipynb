{
 "cells": [
  {
   "cell_type": "code",
   "execution_count": 1,
   "metadata": {
    "scrolled": true
   },
   "outputs": [
    {
     "name": "stderr",
     "output_type": "stream",
     "text": [
      "/home/matheus/snap/jupyter/common/lib/python3.7/site-packages/joblib/_multiprocessing_helpers.py:45: UserWarning: [Errno 13] Permission denied.  joblib will operate in serial mode\n",
      "  warnings.warn('%s.  joblib will operate in serial mode' % (e,))\n"
     ]
    }
   ],
   "source": [
    "from sklearn.metrics import classification_report\n",
    "import nltk\n",
    "import pandas as pd\n",
    "\n",
    "base = [('riacho','rio pequeno de dois metros de largura'),\n",
    "       ('açude','rio pequeno de dois metros de largura'),\n",
    "       ('lagoa','rio pequeno de dois metros de largura'),\n",
    "       ('barreiro','rio pequeno de dois metros de largura'),\n",
    "       ('rio','rio pequeno de dois metros de largura'),\n",
    "       ('riozinho','rio pequeno de dois metros de largura'),\n",
    "       ('ponte','tronco, pedaço de pau ou tábua que serve para passar por cima de um rio pequeno'),\n",
    "       ('pinguela','tronco, pedaço de pau ou tábua que serve para passar por cima de um rio pequeno'),\n",
    "       ('passarela','tronco, pedaço de pau ou tábua que serve para passar por cima de um rio pequeno'),\n",
    "       ('passagem','tronco, pedaço de pau ou tábua que serve para passar por cima de um rio pequeno'),\n",
    "       ('passador','tronco, pedaço de pau ou tábua que serve para passar por cima de um rio pequeno'),\n",
    "       ('corrente','movimento da água do rio'),\n",
    "       ('correnteza','movimento da água do rio'),\n",
    "       ('maré','movimento da água do rio'),\n",
    "       ('mareta','movimento da água do rio'),\n",
    "       ('onda','movimento da água do rio'),\n",
    "       ('raio','uma luz forte e rápida que sai das nuvens, que pode queimar uma arvore'),\n",
    "       ('relâmpago','uma luz forte e rápida que sai das nuvens, que pode queimar uma arvore'),\n",
    "       ('corisco','uma luz forte e rápida que sai das nuvens, que pode queimar uma arvore'),\n",
    "       ('trovão','uma luz forte e rápida que sai das nuvens, que pode queimar uma arvore'),\n",
    "       ('chuva de vento','chuva de pouca duração muito forte e pesada'),\n",
    "       ('chuva forte','chuva de pouca duração muito forte e pesada'),\n",
    "       ('chuva grossa','chuva de pouca duração muito forte e pesada'),\n",
    "       ('chuva passageira','chuva de pouca duração muito forte e pesada'),\n",
    "       ('trovoada','chuva de pouca duração muito forte e pesada'),\n",
    "       ('tempestade','chuva de pouca duração muito forte e pesada'),\n",
    "       ('toró','chuva de pouca duração muito forte e pesada'),\n",
    "       ('tromba dágua','chuva de pouca duração muito forte e pesada'),\n",
    "       ('temporal','chuva de pouca duração muito forte e pesada'),\n",
    "       ('chuva de pedra','bolinhas de gelo que podem cair durante uma chuva'),\n",
    "       ('chuva de gelo','bolinhas de gelo que podem cair durante uma chuva'),\n",
    "       ('chuva de granito','bolinhas de gelo que podem cair durante uma chuva'),\n",
    "       ('chuva de granizo','bolinhas de gelo que podem cair durante uma chuva'),\n",
    "       ('estiou','quando a chuva termina e o sol começa a aparecer'),\n",
    "       ('o tempo mudou','quando a chuva termina e o sol começa a aparecer'),\n",
    "       ('o tempo passou','quando a chuva termina e o sol começa a aparecer'),\n",
    "       ('o tempo clareou','quando a chuva termina e o sol começa a aparecer'),\n",
    "       ('o sol saiu','quando a chuva termina e o sol começa a aparecer'),\n",
    "       ('o sol apareceu','quando a chuva termina e o sol começa a aparecer'),\n",
    "       ('a chuva parou','quando a chuva termina e o sol começa a aparecer'),\n",
    "       ('a chuva passou','quando a chuva termina e o sol começa a aparecer'),\n",
    "       ('arco','listras coloritas e curvadas que aparecem no ceu pos uma chuva'),\n",
    "       ('arco-iris','listras coloritas e curvadas que aparecem no ceu pos uma chuva'),\n",
    "       ('arco-celeste','listras coloritas e curvadas que aparecem no ceu pos uma chuva'),\n",
    "       ('olho-de-boi','listras coloritas e curvadas que aparecem no ceu pos uma chuva'),\n",
    "       ('garoa','chuva bem fininha'),\n",
    "       ('neblina','chuva bem fininha'),\n",
    "       ('lebrina','chuva bem fininha'),\n",
    "       ('sereno','chuva bem fininha'),\n",
    "       ('chuva fina','chuva bem fininha'),\n",
    "       ('chuva fraca','chuva bem fininha'),\n",
    "       ('chuva de inverno','chuva bem fininha'),\n",
    "       ('chuvisco','chuva bem fininha'),\n",
    "       ('úmida','estado da terra quando ela não fica nem seca nem molhada '),\n",
    "       ('ensombrada','estado da terra quando ela não fica nem seca nem molhada'),\n",
    "       ('zarolha','estado da terra quando ela não fica nem seca nem molhada'),\n",
    "       ('orvalho','aquilo que molha a grama de manhã cedo'),\n",
    "       ('sereno','aquilo que molha a grama de manhã cedo'),\n",
    "       ('neblina','aquilo que molha a grama de manhã cedo'),\n",
    "       ('manhã','parte do dia quando começa a clarear'),\n",
    "       ('madrugada','parte do dia quando começa a clarear'),\n",
    "       ('quando o sol nasce','parte do dia quando começa a clarear'),\n",
    "       ('quando o dia amanhece','parte do dia quando começa a clarear'),\n",
    "       ('bem cedo','parte do dia quando começa a clarear'),\n",
    "       ('ta clareando','parte do dia quando começa a clarear'),\n",
    "       ('anoitecer','o começo da noite'),\n",
    "       ('ta de noite','o começo da noite'),\n",
    "       ('boca da noite','o começo da noite'),\n",
    "       ('escurecer','o começo da noite'),\n",
    "       ('escuridão','o começo da noite'),\n",
    "       ('tardezinha','o começo da noite'),\n",
    "       ('estrela cadente','uma estrela que se desloca no céu fazendo um risco de luz a noite'),\n",
    "       ('estrela se mudando','uma estrela que se desloca no céu fazendo um risco de luz a noite'),\n",
    "       ('zelação','uma estrela que se desloca no céu fazendo um risco de luz a noite'),\n",
    "       ('relação','uma estrela que se desloca no céu fazendo um risco de luz a noite'),\n",
    "       ('relevação','uma estrela que se desloca no céu fazendo um risco de luz a noite'),\n",
    "       ('antonte','dois dias atraz e três dias atraz'),\n",
    "       ('ontonte','dois dias atraz e três dias atraz'),\n",
    "       ('antes de ontonte','dois dias atraz e três dias atraz'),\n",
    "       ('antes de ontem','dois dias atraz e três dias atraz'),\n",
    "       ('ternantonte','dois dias atraz e três dias atraz'),\n",
    "       ('dernantonte','dois dias atraz e três dias atraz'),\n",
    "       ('antes de ontem de ontem','dois dias atraz e três dias atraz'),\n",
    "       ('tangerina','fruta menor que laranja, que se descasca com a mão e que deixa um cheiro na mão '),\n",
    "       ('laranja-cravo','fruta menor que laranja, que se descasca com a mão e que deixa um cheiro na mão'),\n",
    "       ('mexerica','fruta menor que laranja, que se descasca com a mão e que deixa um cheiro na mão'),\n",
    "       ('penca','cada parte que se corta do cacho da bananeira para pôr para amadurecer '),\n",
    "       ('cacho','cada parte que se corta do cacho da bananeira para pôr para amadurecer '),\n",
    "       ('palma','cada parte que se corta do cacho da bananeira para pôr para amadurecer '),\n",
    "       ('mala','objeto de couro, com tampa, para levar farinha, no lombo do cavalo ou do burro'),\n",
    "       ('alforje','objeto de couro, com tampa, para levar farinha, no lombo do cavalo ou do burro'),\n",
    "       ('caçuá de couro','objeto de couro, com tampa, para levar farinha, no lombo do cavalo ou do burro'),\n",
    "       ('bolsa','objeto de couro, com tampa, para levar farinha, no lombo do cavalo ou do burro'),\n",
    "       ('baú','objeto de couro, com tampa, para levar farinha, no lombo do cavalo ou do burro'),\n",
    "       ('mochila','objeto de couro, com tampa, para levar farinha, no lombo do cavalo ou do burro'),\n",
    "       ('trabalhador','pessoa contratada para trabalhar na roça de outra e que recebe por dia trabalhado'),\n",
    "       ('trabalhador de alugado','pessoa contratada para trabalhar na roça de outra e que recebe por dia trabalhado'),\n",
    "       ('trabalhador a dia','pessoa contratada para trabalhar na roça de outra e que recebe por dia trabalhado'),\n",
    "       ('diarista','pessoa contratada para trabalhar na roça de outra e que recebe por dia trabalhado'),\n",
    "       ('agricultor','pessoa contratada para trabalhar na roça de outra e que recebe por dia trabalhado'),\n",
    "       ('empregado','pessoa contratada para trabalhar na roça de outra e que recebe por dia trabalhado'),\n",
    "       ('caminho','quando se abre com machado, o facão, a foice para passar por um mato fechado'),\n",
    "       ('vareda','quando se abre com machado, o facão, a foice para passar por um mato fechado'),\n",
    "       ('varedo','quando se abre com machado, o facão, a foice para passar por um mato fechado'),\n",
    "       ('vereda','quando se abre com machado, o facão, a foice para passar por um mato fechado'),\n",
    "       ('trilha','quando se abre com machado, o facão, a foice para passar por um mato fechado'),\n",
    "       ('mato','quando se abre com machado, o facão, a foice para passar por um mato fechado'),\n",
    "       ('picada','quando se abre com machado, o facão, a foice para passar por um mato fechado'),\n",
    "       ('carreiro','quando se abre com machado, o facão, a foice para passar por um mato fechado'),\n",
    "       ('joão-de-barro','ave que faz sua casa com terra, nos postes, nás arvores e até nos cantos das casas'),\n",
    "       ('joana-de-barro','ave que faz sua casa com terra, nos postes, nás arvores e até nos cantos das casas'),\n",
    "       ('maria-de-barro','ave que faz sua casa com terra, nos postes, nás arvores e até nos cantos das casas'),\n",
    "       ('pica-pau','ave que faz sua casa com terra, nos postes, nás arvores e até nos cantos das casas'),\n",
    "       ('suru','uma galinha sem rabo'),\n",
    "       ('sura','uma galinha sem rabo'),\n",
    "       ('cotó','uma galinha sem rabo'),\n",
    "       ('sem rabo','uma galinha sem rabo'),\n",
    "       ('gambá','animal que carrega os filhotes numa bolsa que tem na barriga e solta um cheiro muito ruim'),\n",
    "       ('ticaca','animal que carrega os filhotes numa bolsa que tem na barriga e solta um cheiro muito ruim'),\n",
    "       ('tacaca','animal que carrega os filhotes numa bolsa que tem na barriga e solta um cheiro muito ruim'),\n",
    "       ('cassaco','animal que carrega os filhotes numa bolsa que tem na barriga e solta um cheiro muito ruim'),\n",
    "       ('cangambá','animal que carrega os filhotes numa bolsa que tem na barriga e solta um cheiro muito ruim'),\n",
    "       ('cambabá','animal que carrega os filhotes numa bolsa que tem na barriga e solta um cheiro muito ruim'),\n",
    "       ('camambá','animal que carrega os filhotes numa bolsa que tem na barriga e solta um cheiro muito ruim'),\n",
    "       ('timbu','animal que carrega os filhotes numa bolsa que tem na barriga e solta um cheiro muito ruim'),\n",
    "       ('tembu','animal que carrega os filhotes numa bolsa que tem na barriga e solta um cheiro muito ruim'),\n",
    "       ('libélula','inseto de corpo comprido e fino, com quatro asas bem tranparentes, que vive perto da água e que voa'),\n",
    "       ('cabra-cega','inseto de corpo comprido e fino, com quatro asas bem tranparentes, que vive perto da água e que voa'),\n",
    "       ('lava-cu','inseto de corpo comprido e fino, com quatro asas bem tranparentes, que vive perto da água e que voa'),\n",
    "       ('lava bunda','inseto de corpo comprido e fino, com quatro asas bem tranparentes, que vive perto da água e que voa'),\n",
    "       ('molha-bunda','inseto de corpo comprido e fino, com quatro asas bem tranparentes, que vive perto da água e que voa'),\n",
    "       ('zigue-zigue','inseto de corpo comprido e fino, com quatro asas bem tranparentes, que vive perto da água e que voa'),\n",
    "       ('zigue-zague','inseto de corpo comprido e fino, com quatro asas bem tranparentes, que vive perto da água e que voa'),\n",
    "       ('lagarta','bichinho branco, enrrugado, que da em goiaba'),\n",
    "       ('masca branca','bichinho branco, enrrugado, que da em goiaba'),\n",
    "       ('tapuru','bichinho branco, enrrugado, que da em goiaba'),\n",
    "       ('bicho da goiaba','bichinho branco, enrrugado, que da em goiaba'),\n",
    "       ('morotó','bichinho branco, enrrugado, que da em goiaba'),\n",
    "       ('gogó','parte alta do pescoço do homen'),\n",
    "       ('gargelo','parte alta do pescoço do homen'),\n",
    "       ('gargarelo','parte alta do pescoço do homen'),\n",
    "       ('nó da goela','parte alta do pescoço do homen'),\n",
    "       ('goela','parte alta do pescoço do homen'),\n",
    "       ('caroço','parte alta do pescoço do homen'),\n",
    "       ('manco','pessoa que puxa uma perna quando anda'),\n",
    "       ('tá mancando','pessoa que puxa uma perna quando anda'),\n",
    "       ('deficiente','pessoa que puxa uma perna quando anda'),\n",
    "       ('coxo','pessoa que puxa uma perna quando anda'),\n",
    "       ('concho','pessoa que puxa uma perna quando anda'),\n",
    "       ('aleijado','pessoa que puxa uma perna quando anda'),\n",
    "       ('cotó','pessoa que puxa uma perna quando anda'),\n",
    "       ('conhém','pessoa que puxa uma perna quando anda'),\n",
    "       ('tornozelo','parte do corpo que articulada que liga o final da perna com o inicio do pé '),\n",
    "       ('mocotó','parte do corpo que articulada que liga o final da perna com o inicio do pé '),\n",
    "       ('canela','parte do corpo que articulada que liga o final da perna com o inicio do pé '),\n",
    "       ('calcanhar','parte do corpo que articulada que liga o final da perna com o inicio do pé '),\n",
    "       ('parir','ato de expelir pelo utero o que estava em seu interior'),\n",
    "       ('descançar','ato de expelir pelo utero o que estava em seu interior'),\n",
    "       ('ganhar neném','ato de expelir pelo utero o que estava em seu interior'),\n",
    "       ('ter neném','ato de expelir pelo utero o que estava em seu interior'),\n",
    "       ('dar à luz','ato de expelir pelo utero o que estava em seu interior'),\n",
    "       ('conversador','pessoa que fala de mais'),\n",
    "       ('falador','pessoa que fala de mais'),\n",
    "       ('faladeiro','pessoa que fala de mais'),\n",
    "       ('fala muito','pessoa que fala de mais'),\n",
    "       ('fala demais','pessoa que fala de mais'),\n",
    "       ('fofoqueiro','pessoa que fala de mais'),\n",
    "       ('linguarudo','pessoa que fala de mais'),\n",
    "       ('zoadento','pessoa que fala de mais'),\n",
    "       ('pão-duro','pessoa que não gosta de gastar seu dinheiro'),\n",
    "       ('mão-de-vaca','pessoa que não gosta de gastar seu dinheiro'),\n",
    "       ('mão-fechada','pessoa que não gosta de gastar seu dinheiro'),\n",
    "       ('seguro','pessoa que não gosta de gastar seu dinheiro'),\n",
    "       ('pirangueiro','pessoa que não gosta de gastar seu dinheiro'),\n",
    "       ('canguinha','pessoa que não gosta de gastar seu dinheiro'),\n",
    "       ('econõmico','pessoa que não gosta de gastar seu dinheiro'),\n",
    "       ('pistoleiro','pessoa paga para matar alguem'),\n",
    "       ('criminoso','pessoa paga para matar alguem'),\n",
    "       ('assasino','pessoa paga para matar alguem'),\n",
    "       ('matador','pessoa paga para matar alguem'),\n",
    "       ('bandido','pessoa paga para matar alguem'),\n",
    "       ('prostituta','mulher que se vende para qualquer homem'),\n",
    "       ('rapariga','mulher que se vende para qualquer homem'),\n",
    "       ('puta','mulher que se vende para qualquer homem'),\n",
    "       ('mulhar-da-vida','mulher que se vende para qualquer homem'),\n",
    "       ('vagabunda','mulher que se vende para qualquer homem'),\n",
    "       ('bêbado','pessoa que bebeu de mais'),\n",
    "       ('cachaceiro','pessoa que bebeu de mais'),\n",
    "       ('alcóolatra','pessoa que bebeu de mais'),\n",
    "       ('bebão','pessoa que bebeu de mais'),\n",
    "       ('beberrão','pessoa que bebeu de mais'),\n",
    "       ('cigarro de fumo','cigarro que as pessoa faziam antigamente, enrrolado a mão'),\n",
    "       ('cigarro de corda','cigarro que as pessoa faziam antigamente, enrrolado a mão'),\n",
    "       ('cigarro de palha','cigarro que as pessoa faziam antigamente, enrrolado a mão'),\n",
    "       ('pacaia','cigarro que as pessoa faziam antigamente, enrrolado a mão'),\n",
    "       ('beata','resto de cigarro que se joga fora'),\n",
    "       ('bituca','resto de cigarro que se joga fora'),\n",
    "       ('bicuta','resto de cigarro que se joga fora'),\n",
    "       ('pituca','resto de cigarro que se joga fora'),\n",
    "       ('biola','resto de cigarro que se joga fora'),\n",
    "       ('piola','resto de cigarro que se joga fora'),\n",
    "       ('goia','resto de cigarro que se joga fora'),\n",
    "       ('baga','resto de cigarro que se joga fora'),\n",
    "       ('pnta de cigarro','resto de cigarro que se joga fora'),\n",
    "       ('feitiço','ajuda dos espiritos para prejudicar alguém'),\n",
    "       ('catimbó','ajuda dos espiritos para prejudicar alguém'),\n",
    "       ('daspacho','ajuda dos espiritos para prejudicar alguém'),\n",
    "       ('macumba','ajuda dos espiritos para prejudicar alguém'),\n",
    "       ('bruxaria','ajuda dos espiritos para prejudicar alguém'),\n",
    "       ('bunda canastra','brincadeira em que se gira o corpo sobre a cabeça e acaba sentado'),\n",
    "       ('cambalhota','brincadeira em que se gira o corpo sobre a cabeça e acaba sentado'),\n",
    "       ('pulo mortal','brincadeira em que se gira o corpo sobre a cabeça e acaba sentado'),\n",
    "       ('ginástica','brincadeira em que se gira o corpo sobre a cabeça e acaba sentado'),\n",
    "       ('pulo de costa','brincadeira em que se gira o corpo sobre a cabeça e acaba sentado'),\n",
    "       ('cangapé','brincadeira em que se gira o corpo sobre a cabeça e acaba sentado'),\n",
    "       ('bola de gude','bolinhas de vidro que os meninos gostam de brincar'),\n",
    "       ('bola de vidro','bolinhas de vidro que os meninos gostam de brincar'),\n",
    "       ('bila','bolinhas de vidro que os meninos gostam de brincar'),\n",
    "       ('bolita','bolinhas de vidro que os meninos gostam de brincar'),\n",
    "       ('ximbra','bolinhas de vidro que os meninos gostam de brincar'),\n",
    "       ('baladeira','objeto feito de uma forquilha e de duas tiras de borracha e que os meninos usam para matar passarinho '),\n",
    "       ('baleeira','objeto feito de uma forquilha e de duas tiras de borracha e que os meninos usam para matar passarinho '),\n",
    "       ('peteca','objeto feito de uma forquilha e de duas tiras de borracha e que os meninos usam para matar passarinho '),\n",
    "       ('estilingue','objeto feito de uma forquilha e de duas tiras de borracha e que os meninos usam para matar passarinho '),\n",
    "       ('badoque','objeto feito de uma forquilha e de duas tiras de borracha e que os meninos usam para matar passarinho '),\n",
    "       ('gangorra','tábua apoiada no meio, em cujas pontas sentam duas crianças e quando uma sobe, a outra desce'),\n",
    "       ('balanço','tábua apoiada no meio, em cujas pontas sentam duas crianças e quando uma sobe, a outra desce'),\n",
    "       ('balancim','tábua apoiada no meio, em cujas pontas sentam duas crianças e quando uma sobe, a outra desce'),\n",
    "       ('balançador','tábua apoiada no meio, em cujas pontas sentam duas crianças e quando uma sobe, a outra desce'),\n",
    "       ('burrica','tábua apoiada no meio, em cujas pontas sentam duas crianças e quando uma sobe, a outra desce'),\n",
    "       ('canoa','tábua apoiada no meio, em cujas pontas sentam duas crianças e quando uma sobe, a outra desce'),\n",
    "       ('cademia','jogo em que as crianças riscam no chão, formada por dez quadrados numerados, com um céu e um inferno, e elas vão pulando com uma perna só'),\n",
    "       ('amarelinha','jogo em que as crianças riscam no chão, formada por dez quadrados numerados, com um céu e um inferno, e elas vão pulando com uma perna só'),\n",
    "       ('avião','jogo em que as crianças riscam no chão, formada por dez quadrados numerados, com um céu e um inferno, e elas vão pulando com uma perna só'),\n",
    "       ('macaco','jogo em que as crianças riscam no chão, formada por dez quadrados numerados, com um céu e um inferno, e elas vão pulando com uma perna só'),\n",
    "       ('grampo','objeto fino de metal capaz de prender o cabelo'),\n",
    "       ('biliro','objeto fino de metal capaz de prender o cabelo'),\n",
    "       ('friso','objeto fino de metal capaz de prender o cabelo'),\n",
    "       ('misse','objeto fino de metal capaz de prender o cabelo'),\n",
    "       ('ataca','objeto fino de metal capaz de prender o cabelo'),\n",
    "       ('atraca','objeto fino de metal capaz de prender o cabelo'),\n",
    "       ('presilha','objeto fino de metal capaz de prender o cabelo'),\n",
    "       ('frevo','tipo de frevo que não tem letra de musica'),\n",
    "       ('frevo-de-rua','tipo de frevo que não tem letra de musica'),\n",
    "       ('frevo com orquestra','tipo de frevo que não tem letra de musica'),\n",
    "       ('frevo sem música','tipo de frevo que não tem letra de musica'),\n",
    "       ('banda de frevo','tipo de frevo que não tem letra de musica'),\n",
    "       ('guerreiros de lança','soldados da cavalaria armada de lança no Maracatu '),\n",
    "       ('lanceiros','soldados da cavalaria armada de lança no Maracatu'),\n",
    "       ('lançadores','soldados da cavalaria armada de lança no Maracatu'),\n",
    "       ('soldado de lança','soldados da cavalaria armada de lança no Maracatu'),\n",
    "       ('cavaleiros','soldados da cavalaria armada de lança no Maracatu'),\n",
    "       ('renascença','tipo de renda confeccionada com agulha, linha, típica do nordeste, especial em pernambuco'),\n",
    "       ('renda','tipo de renda confeccionada com agulha, linha, típica do nordeste, especial em pernambuco'),\n",
    "       ('crochê','tipo de renda confeccionada com agulha, linha, típica do nordeste, especial em pernambuco'),\n",
    "       ('tricô','tipo de renda confeccionada com agulha, linha, típica do nordeste, especial em pernambuco'),\n",
    "       ('bordado','tipo de renda confeccionada com agulha, linha, típica do nordeste, especial em pernambuco'),\n",
    "       ('torno','peça usada para modelagem de figuras ou panelas de barro'),\n",
    "       ('fôrma','peça usada para modelagem de figuras ou panelas de barro'),\n",
    "       ('panela','peça usada para modelagem de figuras ou panelas de barro'),\n",
    "       ('máquina','peça usada para modelagem de figuras ou panelas de barro'),\n",
    "       ('bacia','peça usada para modelagem de figuras ou panelas de barro'),\n",
    "       ]\n"
   ]
  },
  {
   "cell_type": "code",
   "execution_count": 2,
   "metadata": {},
   "outputs": [],
   "source": [
    "stopwordsnltk = nltk.corpus.stopwords.words('portuguese')\n",
    "\n",
    "\n",
    "def fazstemmer(texto):\n",
    "    stemmer = nltk.stem.RSLPStemmer()\n",
    "    frasessstemming = []\n",
    "    for (palavras, sentido) in texto:\n",
    "        comstemming = [str(stemmer.stem(p))\n",
    "                       for p in palavras.split() if p not in stopwordsnltk]\n",
    "        frasessstemming.append((comstemming, sentido))\n",
    "    return frasessstemming\n",
    "\n",
    "\n",
    "frasescomstemming = fazstemmer(base)\n",
    "\n",
    "\n",
    "def buscapalavras(frases):\n",
    "    todaspalavras = []\n",
    "    for (palavras, sentido) in frases:\n",
    "        todaspalavras.extend(palavras)\n",
    "    return todaspalavras\n",
    "\n",
    "\n",
    "palavras = buscapalavras(frasescomstemming)\n",
    "\n",
    "\n",
    "def buscafrequencia(palavras):\n",
    "    palavras = nltk.FreqDist(palavras)\n",
    "    return palavras\n",
    "\n",
    "\n",
    "frequenciatreinamento = buscafrequencia(palavras)\n",
    "\n",
    "\n",
    "def busca_palavrasunicas(frequencia):\n",
    "    freq = frequencia.keys()\n",
    "    return freq\n",
    "\n",
    "\n",
    "palavrasunicas = busca_palavrasunicas(frequenciatreinamento)\n",
    "\n",
    "\n",
    "def extraipalavras(documento):\n",
    "    doc = set(documento)\n",
    "    caracteristicas = {}\n",
    "    for palavras in palavrasunicas:\n",
    "        caracteristicas['%s' % palavras] = (palavras in doc)\n",
    "    return caracteristicas\n",
    "\n",
    "\n",
    "basecompleta = nltk.classify.apply_features(extraipalavras, frasescomstemming)\n",
    "\n",
    "classificador = nltk.NaiveBayesClassifier.train(basecompleta)\n",
    "\n",
    "def extrai_palavras(documento):\n",
    "    doc = set(documento)\n",
    "    caracteristicas = {}\n",
    "    for palavras in palavrasunicas:\n",
    "        caracteristicas['%s' % palavras] = (palavras in doc)\n",
    "    return caracteristicas\n",
    "    \n"
   ]
  },
  {
   "cell_type": "code",
   "execution_count": 3,
   "metadata": {},
   "outputs": [
    {
     "name": "stdout",
     "output_type": "stream",
     "text": [
      "-----------------------\n",
      "animal que carrega os filhotes numa bolsa que tem na barriga e solta um cheiro muito ruim: 30.016397\n",
      "resto de cigarro que se joga fora: 26.856776\n"
     ]
    }
   ],
   "source": [
    "teste = 'Croche é o processo de criação de tecidos usando a agulha de crochê e algum fio contínuo, normalmente, lã, fio de algodão, seda etc mas também pode se usar arame, barbante ou outro material inovador.'\n",
    "testestem = []\n",
    "stemmer = nltk.stem.RSLPStemmer()\n",
    "for (palavrastreinamento) in teste.split():\n",
    "    comstem = [p for p in palavrastreinamento.split()]\n",
    "    testestem.append(str(stemmer.stem(comstem[0])))\n",
    "\n",
    "nova_frase = extrai_palavras(testestem)\n",
    "\n",
    "distribuicao = classificador.prob_classify(nova_frase)\n",
    "print('-----------------------')\n",
    "for classe in distribuicao.samples():\n",
    "    if (distribuicao.prob(classe)*100) >= 25:\n",
    "        print(\"%s: %f\" % (classe, (distribuicao.prob(classe)*100)))"
   ]
  },
  {
   "cell_type": "code",
   "execution_count": 4,
   "metadata": {},
   "outputs": [
    {
     "name": "stdout",
     "output_type": "stream",
     "text": [
      "-----------------------\n",
      "animal que carrega os filhotes numa bolsa que tem na barriga e solta um cheiro muito ruim: 58.986787\n"
     ]
    }
   ],
   "source": [
    "teste = 'Os gambás são animais com quarenta a cinquenta centímetros de comprimento, sem contar com a cauda, que chega a medir quarenta centímetros.'\n",
    "testestem = []\n",
    "stemmer = nltk.stem.RSLPStemmer()\n",
    "for (palavrastreinamento) in teste.split():\n",
    "    comstem = [p for p in palavrastreinamento.split()]\n",
    "    testestem.append(str(stemmer.stem(comstem[0])))\n",
    "\n",
    "nova_frase = extrai_palavras(testestem)\n",
    "\n",
    "distribuicao = classificador.prob_classify(nova_frase)\n",
    "print('-----------------------')\n",
    "for classe in distribuicao.samples():\n",
    "    if (distribuicao.prob(classe)*100) >= 25:\n",
    "        print(\"%s: %f\" % (classe, (distribuicao.prob(classe)*100)))"
   ]
  },
  {
   "cell_type": "code",
   "execution_count": 5,
   "metadata": {
    "scrolled": true
   },
   "outputs": [
    {
     "name": "stdout",
     "output_type": "stream",
     "text": [
      "-----------------------\n",
      "quando a chuva termina e o sol começa a aparecer: 16.491962\n",
      "animal que carrega os filhotes numa bolsa que tem na barriga e solta um cheiro muito ruim: 22.605964\n",
      "resto de cigarro que se joga fora: 20.226389\n"
     ]
    }
   ],
   "source": [
    "teste = 'Acredita-se que amarelinha teria sido inventada pelos romanos, já que gravuras mostram crianças brincando de amarelinha nos pavilhões de mármore nas vias da Roma antiga. Na época, o percurso carregava o simbolismo da passagem do homem pela vida. Por isso, em uma das pontas se escrevia céu e, na outra, inferno.'\n",
    "testestem = []\n",
    "stemmer = nltk.stem.RSLPStemmer()\n",
    "for (palavrastreinamento) in teste.split():\n",
    "    comstem = [p for p in palavrastreinamento.split()]\n",
    "    testestem.append(str(stemmer.stem(comstem[0])))\n",
    "\n",
    "nova_frase = extrai_palavras(testestem)\n",
    "\n",
    "distribuicao = classificador.prob_classify(nova_frase)\n",
    "print('-----------------------')\n",
    "for classe in distribuicao.samples():\n",
    "    if (distribuicao.prob(classe)*100) >= 15:\n",
    "        print(\"%s: %f\" % (classe, (distribuicao.prob(classe)*100)))"
   ]
  },
  {
   "cell_type": "code",
   "execution_count": 6,
   "metadata": {},
   "outputs": [
    {
     "name": "stdout",
     "output_type": "stream",
     "text": [
      "-----------------------\n",
      "chuva de pouca duração muito forte e pesada: 15.459998\n",
      "animal que carrega os filhotes numa bolsa que tem na barriga e solta um cheiro muito ruim: 29.845237\n",
      "resto de cigarro que se joga fora: 26.703633\n"
     ]
    }
   ],
   "source": [
    "teste = 'Trabalhador é um termo amplo que inclui todo aquele que vive do seu trabalho - isto inclui o escravo, o servo, o artesão, o proletário. '\n",
    "testestem = []\n",
    "stemmer = nltk.stem.RSLPStemmer()\n",
    "for (palavrastreinamento) in teste.split():\n",
    "    comstem = [p for p in palavrastreinamento.split()]\n",
    "    testestem.append(str(stemmer.stem(comstem[0])))\n",
    "\n",
    "nova_frase = extrai_palavras(testestem)\n",
    "\n",
    "distribuicao = classificador.prob_classify(nova_frase)\n",
    "print('-----------------------')\n",
    "for classe in distribuicao.samples():\n",
    "    if (distribuicao.prob(classe)*100) >= 15:\n",
    "        print(\"%s: %f\" % (classe, (distribuicao.prob(classe)*100)))"
   ]
  },
  {
   "cell_type": "code",
   "execution_count": 7,
   "metadata": {},
   "outputs": [
    {
     "name": "stdout",
     "output_type": "stream",
     "text": [
      "-----------------------\n",
      "chuva de pouca duração muito forte e pesada: 15.520695\n",
      "animal que carrega os filhotes numa bolsa que tem na barriga e solta um cheiro muito ruim: 29.962412\n",
      "resto de cigarro que se joga fora: 26.808474\n"
     ]
    }
   ],
   "source": [
    "teste = 'Canoa em geral é a definição que se aplica a uma embarcação leve a remo ou a vela, algumas com motor de popa, geralmente em uma só peça, como troncos de árvores, ou a um objeto similar.'\n",
    "testestem = []\n",
    "stemmer = nltk.stem.RSLPStemmer()\n",
    "for (palavrastreinamento) in teste.split():\n",
    "    comstem = [p for p in palavrastreinamento.split()]\n",
    "    testestem.append(str(stemmer.stem(comstem[0])))\n",
    "\n",
    "nova_frase = extrai_palavras(testestem)\n",
    "\n",
    "distribuicao = classificador.prob_classify(nova_frase)\n",
    "print('-----------------------')\n",
    "for classe in distribuicao.samples():\n",
    "    if (distribuicao.prob(classe)*100) >= 15:\n",
    "        print(\"%s: %f\" % (classe, (distribuicao.prob(classe)*100)))"
   ]
  },
  {
   "cell_type": "code",
   "execution_count": 8,
   "metadata": {},
   "outputs": [
    {
     "name": "stdout",
     "output_type": "stream",
     "text": [
      "-----------------------\n",
      "chuva de pouca duração muito forte e pesada: 15.549731\n",
      "animal que carrega os filhotes numa bolsa que tem na barriga e solta um cheiro muito ruim: 30.018465\n",
      "resto de cigarro que se joga fora: 26.858626\n"
     ]
    }
   ],
   "source": [
    "teste = 'Sereno, orvalho ou rocio é um fenômeno físico no qual a água presente no ar se condensa na forma de gotas, ou seja, é o processo inverso da evaporação.'\n",
    "testestem = []\n",
    "stemmer = nltk.stem.RSLPStemmer()\n",
    "for (palavrastreinamento) in teste.split():\n",
    "    comstem = [p for p in palavrastreinamento.split()]\n",
    "    testestem.append(str(stemmer.stem(comstem[0])))\n",
    "\n",
    "nova_frase = extrai_palavras(testestem)\n",
    "\n",
    "distribuicao = classificador.prob_classify(nova_frase)\n",
    "print('-----------------------')\n",
    "for classe in distribuicao.samples():\n",
    "    if (distribuicao.prob(classe)*100) >= 15:\n",
    "        print(\"%s: %f\" % (classe, (distribuicao.prob(classe)*100)))"
   ]
  },
  {
   "cell_type": "code",
   "execution_count": 9,
   "metadata": {},
   "outputs": [
    {
     "name": "stdout",
     "output_type": "stream",
     "text": [
      "-----------------------\n",
      "quando a chuva termina e o sol começa a aparecer: 37.547784\n",
      "animal que carrega os filhotes numa bolsa que tem na barriga e solta um cheiro muito ruim: 15.137568\n"
     ]
    }
   ],
   "source": [
    "teste = 'Um rio é um curso de água, usualmente de água doce, que flui por gravidade em direção a um oceano, um lago, um mar, ou um outro rio. Em alguns casos, um rio simplesmente flui para o solo ou seca completamente antes de chegar a um outro corpo d água.'\n",
    "testestem = []\n",
    "stemmer = nltk.stem.RSLPStemmer()\n",
    "for (palavrastreinamento) in teste.split():\n",
    "    comstem = [p for p in palavrastreinamento.split()]\n",
    "    testestem.append(str(stemmer.stem(comstem[0])))\n",
    "\n",
    "nova_frase = extrai_palavras(testestem)\n",
    "\n",
    "distribuicao = classificador.prob_classify(nova_frase)\n",
    "print('-----------------------')\n",
    "for classe in distribuicao.samples():\n",
    "    if (distribuicao.prob(classe)*100) >= 15:\n",
    "        print(\"%s: %f\" % (classe, (distribuicao.prob(classe)*100)))"
   ]
  },
  {
   "cell_type": "code",
   "execution_count": 10,
   "metadata": {},
   "outputs": [
    {
     "name": "stdout",
     "output_type": "stream",
     "text": [
      "-----------------------\n",
      "animal que carrega os filhotes numa bolsa que tem na barriga e solta um cheiro muito ruim: 28.888833\n",
      "resto de cigarro que se joga fora: 25.847903\n"
     ]
    }
   ],
   "source": [
    "teste = 'O trovão é o som gerado pela onda de choque provocada pelo aquecimento e subsequente expansão supersónica do ar atravessado por uma descarga eléctrica produzida por uma trovoada.'\n",
    "testestem = []\n",
    "stemmer = nltk.stem.RSLPStemmer()\n",
    "for (palavrastreinamento) in teste.split():\n",
    "    comstem = [p for p in palavrastreinamento.split()]\n",
    "    testestem.append(str(stemmer.stem(comstem[0])))\n",
    "\n",
    "nova_frase = extrai_palavras(testestem)\n",
    "\n",
    "distribuicao = classificador.prob_classify(nova_frase)\n",
    "print('-----------------------')\n",
    "for classe in distribuicao.samples():\n",
    "    if (distribuicao.prob(classe)*100) >= 15:\n",
    "        print(\"%s: %f\" % (classe, (distribuicao.prob(classe)*100)))"
   ]
  },
  {
   "cell_type": "code",
   "execution_count": 11,
   "metadata": {},
   "outputs": [
    {
     "name": "stdout",
     "output_type": "stream",
     "text": [
      "-----------------------\n",
      "chuva de pouca duração muito forte e pesada: 16.088085\n",
      "animal que carrega os filhotes numa bolsa que tem na barriga e solta um cheiro muito ruim: 31.057746\n",
      "resto de cigarro que se joga fora: 27.788510\n"
     ]
    }
   ],
   "source": [
    "teste = 'A libélula, também conhecida como tira-olhos ou libelinha em Portugal e como lavadeira ou jacinta no Brasil, é um insecto alado pertencente à subordem Anisóptera.'\n",
    "testestem = []\n",
    "stemmer = nltk.stem.RSLPStemmer()\n",
    "for (palavrastreinamento) in teste.split():\n",
    "    comstem = [p for p in palavrastreinamento.split()]\n",
    "    testestem.append(str(stemmer.stem(comstem[0])))\n",
    "\n",
    "nova_frase = extrai_palavras(testestem)\n",
    "\n",
    "distribuicao = classificador.prob_classify(nova_frase)\n",
    "print('-----------------------')\n",
    "for classe in distribuicao.samples():\n",
    "    if (distribuicao.prob(classe)*100) >= 15:\n",
    "        print(\"%s: %f\" % (classe, (distribuicao.prob(classe)*100)))"
   ]
  },
  {
   "cell_type": "code",
   "execution_count": 12,
   "metadata": {},
   "outputs": [
    {
     "name": "stdout",
     "output_type": "stream",
     "text": [
      "-----------------------\n",
      "chuva de pouca duração muito forte e pesada: 15.549731\n",
      "animal que carrega os filhotes numa bolsa que tem na barriga e solta um cheiro muito ruim: 30.018465\n",
      "resto de cigarro que se joga fora: 26.858626\n"
     ]
    }
   ],
   "source": [
    "teste = 'O orvalho é um fenômeno físico no qual a umidade do ar precipita por condensação na forma de gotas, pela diminuição da temperatura ou em contato com superfícies frias.'\n",
    "testestem = []\n",
    "stemmer = nltk.stem.RSLPStemmer()\n",
    "for (palavrastreinamento) in teste.split():\n",
    "    comstem = [p for p in palavrastreinamento.split()]\n",
    "    testestem.append(str(stemmer.stem(comstem[0])))\n",
    "\n",
    "nova_frase = extrai_palavras(testestem)\n",
    "\n",
    "distribuicao = classificador.prob_classify(nova_frase)\n",
    "print('-----------------------')\n",
    "for classe in distribuicao.samples():\n",
    "    if (distribuicao.prob(classe)*100) >= 15:\n",
    "        print(\"%s: %f\" % (classe, (distribuicao.prob(classe)*100)))"
   ]
  },
  {
   "cell_type": "code",
   "execution_count": 13,
   "metadata": {},
   "outputs": [
    {
     "name": "stdout",
     "output_type": "stream",
     "text": [
      "-----------------------\n",
      "animal que carrega os filhotes numa bolsa que tem na barriga e solta um cheiro muito ruim: 28.816308\n",
      "resto de cigarro que se joga fora: 25.783013\n"
     ]
    }
   ],
   "source": [
    "teste = 'O joão-de-barro ou forneiro também chamado uiracuiar e uiracuité é uma ave Passeriforme da família Furnariidae. É conhecido por seu característico ninho de barro em forma de forno.'\n",
    "testestem = []\n",
    "stemmer = nltk.stem.RSLPStemmer()\n",
    "for (palavrastreinamento) in teste.split():\n",
    "    comstem = [p for p in palavrastreinamento.split()]\n",
    "    testestem.append(str(stemmer.stem(comstem[0])))\n",
    "\n",
    "nova_frase = extrai_palavras(testestem)\n",
    "\n",
    "distribuicao = classificador.prob_classify(nova_frase)\n",
    "print('-----------------------')\n",
    "for classe in distribuicao.samples():\n",
    "    if (distribuicao.prob(classe)*100) >= 15:\n",
    "        print(\"%s: %f\" % (classe, (distribuicao.prob(classe)*100)))"
   ]
  },
  {
   "cell_type": "code",
   "execution_count": 14,
   "metadata": {},
   "outputs": [
    {
     "name": "stdout",
     "output_type": "stream",
     "text": [
      "-----------------------\n",
      "animal que carrega os filhotes numa bolsa que tem na barriga e solta um cheiro muito ruim: 28.842889\n",
      "resto de cigarro que se joga fora: 25.806796\n"
     ]
    }
   ],
   "source": [
    "teste = 'Criminoso foge pela BR-365, causa acidente com morte e drogas são apreendidas pela polícia'\n",
    "testestem = []\n",
    "stemmer = nltk.stem.RSLPStemmer()\n",
    "for (palavrastreinamento) in teste.split():\n",
    "    comstem = [p for p in palavrastreinamento.split()]\n",
    "    testestem.append(str(stemmer.stem(comstem[0])))\n",
    "\n",
    "nova_frase = extrai_palavras(testestem)\n",
    "\n",
    "distribuicao = classificador.prob_classify(nova_frase)\n",
    "print('-----------------------')\n",
    "for classe in distribuicao.samples():\n",
    "    if (distribuicao.prob(classe)*100) >= 15:\n",
    "        print(\"%s: %f\" % (classe, (distribuicao.prob(classe)*100)))"
   ]
  },
  {
   "cell_type": "code",
   "execution_count": 15,
   "metadata": {},
   "outputs": [
    {
     "name": "stdout",
     "output_type": "stream",
     "text": [
      "-----------------------\n",
      "animal que carrega os filhotes numa bolsa que tem na barriga e solta um cheiro muito ruim: 28.842889\n",
      "resto de cigarro que se joga fora: 25.806796\n"
     ]
    }
   ],
   "source": [
    "teste = 'Criminoso aponta arma contra a polícia e é morto a tiros em Várzea Grande'\n",
    "testestem = []\n",
    "stemmer = nltk.stem.RSLPStemmer()\n",
    "for (palavrastreinamento) in teste.split():\n",
    "    comstem = [p for p in palavrastreinamento.split()]\n",
    "    testestem.append(str(stemmer.stem(comstem[0])))\n",
    "\n",
    "nova_frase = extrai_palavras(testestem)\n",
    "\n",
    "distribuicao = classificador.prob_classify(nova_frase)\n",
    "print('-----------------------')\n",
    "for classe in distribuicao.samples():\n",
    "    if (distribuicao.prob(classe)*100) >= 15:\n",
    "        print(\"%s: %f\" % (classe, (distribuicao.prob(classe)*100)))"
   ]
  },
  {
   "cell_type": "code",
   "execution_count": 16,
   "metadata": {},
   "outputs": [
    {
     "name": "stdout",
     "output_type": "stream",
     "text": [
      "-----------------------\n",
      "animal que carrega os filhotes numa bolsa que tem na barriga e solta um cheiro muito ruim: 26.345466\n",
      "resto de cigarro que se joga fora: 23.572259\n"
     ]
    }
   ],
   "source": [
    "teste = 'Lanceiro é a designação dos soldados de cavalaria armados de lança introduzidos nos exércitos europeus a partir do início do século XIX. A sua introdução teve a ver com o sucesso que as tropas polacas deste tipo, chamadas Ulanos, tiveram ao serviço do Grande Armée.'\n",
    "testestem = []\n",
    "stemmer = nltk.stem.RSLPStemmer()\n",
    "for (palavrastreinamento) in teste.split():\n",
    "    comstem = [p for p in palavrastreinamento.split()]\n",
    "    testestem.append(str(stemmer.stem(comstem[0])))\n",
    "\n",
    "nova_frase = extrai_palavras(testestem)\n",
    "\n",
    "distribuicao = classificador.prob_classify(nova_frase)\n",
    "print('-----------------------')\n",
    "for classe in distribuicao.samples():\n",
    "    if (distribuicao.prob(classe)*100) >= 15:\n",
    "        print(\"%s: %f\" % (classe, (distribuicao.prob(classe)*100)))"
   ]
  },
  {
   "cell_type": "code",
   "execution_count": 17,
   "metadata": {},
   "outputs": [
    {
     "name": "stdout",
     "output_type": "stream",
     "text": [
      "-----------------------\n",
      "animal que carrega os filhotes numa bolsa que tem na barriga e solta um cheiro muito ruim: 28.842627\n",
      "resto de cigarro que se joga fora: 25.806561\n"
     ]
    }
   ],
   "source": [
    "teste = 'O frevo é um ritmo musical e uma dança brasileira com origem no estado de Pernambuco. Sua música baseia-se na fusão de gêneros como marcha, maxixe, dobrado e polca, e sua dança foi influenciada pela capoeira.'\n",
    "testestem = []\n",
    "stemmer = nltk.stem.RSLPStemmer()\n",
    "for (palavrastreinamento) in teste.split():\n",
    "    comstem = [p for p in palavrastreinamento.split()]\n",
    "    testestem.append(str(stemmer.stem(comstem[0])))\n",
    "\n",
    "nova_frase = extrai_palavras(testestem)\n",
    "\n",
    "distribuicao = classificador.prob_classify(nova_frase)\n",
    "print('-----------------------')\n",
    "for classe in distribuicao.samples():\n",
    "    if (distribuicao.prob(classe)*100) >= 15:\n",
    "        print(\"%s: %f\" % (classe, (distribuicao.prob(classe)*100)))"
   ]
  },
  {
   "cell_type": "code",
   "execution_count": 18,
   "metadata": {},
   "outputs": [
    {
     "name": "stdout",
     "output_type": "stream",
     "text": [
      "-----------------------\n",
      "animal que carrega os filhotes numa bolsa que tem na barriga e solta um cheiro muito ruim: 27.199905\n",
      "resto de cigarro que se joga fora: 24.336757\n"
     ]
    }
   ],
   "source": [
    "teste = 'Movimento, exercício ou mesmo brincadeira que consiste em uma pessoa curvar-se para a frente até a cabeça atingir o chão e, nessa posição, dar ao corpo uma volta, rolando-o para a frente ou para trás; bagaço, cabriola, cambota'\n",
    "testestem = []\n",
    "stemmer = nltk.stem.RSLPStemmer()\n",
    "for (palavrastreinamento) in teste.split():\n",
    "    comstem = [p for p in palavrastreinamento.split()]\n",
    "    testestem.append(str(stemmer.stem(comstem[0])))\n",
    "\n",
    "nova_frase = extrai_palavras(testestem)\n",
    "\n",
    "distribuicao = classificador.prob_classify(nova_frase)\n",
    "print('-----------------------')\n",
    "for classe in distribuicao.samples():\n",
    "    if (distribuicao.prob(classe)*100) >= 15:\n",
    "        print(\"%s: %f\" % (classe, (distribuicao.prob(classe)*100)))"
   ]
  },
  {
   "cell_type": "code",
   "execution_count": 19,
   "metadata": {},
   "outputs": [
    {
     "name": "stdout",
     "output_type": "stream",
     "text": [
      "-----------------------\n",
      "chuva de pouca duração muito forte e pesada: 15.548660\n",
      "animal que carrega os filhotes numa bolsa que tem na barriga e solta um cheiro muito ruim: 30.016397\n",
      "resto de cigarro que se joga fora: 26.856776\n"
     ]
    }
   ],
   "source": [
    "teste = 'Pessoa viciada em bebidas alcoólicas; quem sofre de alcoolismo; alcoólico.'\n",
    "testestem = []\n",
    "stemmer = nltk.stem.RSLPStemmer()\n",
    "for (palavrastreinamento) in teste.split():\n",
    "    comstem = [p for p in palavrastreinamento.split()]\n",
    "    testestem.append(str(stemmer.stem(comstem[0])))\n",
    "\n",
    "nova_frase = extrai_palavras(testestem)\n",
    "\n",
    "distribuicao = classificador.prob_classify(nova_frase)\n",
    "print('-----------------------')\n",
    "for classe in distribuicao.samples():\n",
    "    if (distribuicao.prob(classe)*100) >= 15:\n",
    "        print(\"%s: %f\" % (classe, (distribuicao.prob(classe)*100)))"
   ]
  },
  {
   "cell_type": "code",
   "execution_count": 20,
   "metadata": {},
   "outputs": [
    {
     "name": "stdout",
     "output_type": "stream",
     "text": [
      "-----------------------\n",
      "animal que carrega os filhotes numa bolsa que tem na barriga e solta um cheiro muito ruim: 58.986787\n",
      "resto de cigarro que se joga fora: 15.740703\n"
     ]
    }
   ],
   "source": [
    "teste = 'Os gambás são marsupiais, isto é, animais que carregam os filhotes em uma bolsa. Eles vivem principalmente em florestas da América do Sul e da América Central.'\n",
    "testestem = []\n",
    "stemmer = nltk.stem.RSLPStemmer()\n",
    "for (palavrastreinamento) in teste.split():\n",
    "    comstem = [p for p in palavrastreinamento.split()]\n",
    "    testestem.append(str(stemmer.stem(comstem[0])))\n",
    "\n",
    "nova_frase = extrai_palavras(testestem)\n",
    "\n",
    "distribuicao = classificador.prob_classify(nova_frase)\n",
    "print('-----------------------')\n",
    "for classe in distribuicao.samples():\n",
    "    if (distribuicao.prob(classe)*100) >= 15:\n",
    "        print(\"%s: %f\" % (classe, (distribuicao.prob(classe)*100)))"
   ]
  },
  {
   "cell_type": "code",
   "execution_count": 21,
   "metadata": {},
   "outputs": [
    {
     "name": "stdout",
     "output_type": "stream",
     "text": [
      "              |                   j               |\n",
      "              |                   o               |\n",
      "              |                   ã           t   |\n",
      "              | a a c   c         o           r   |\n",
      "              | l m a   r         - l         a   |\n",
      "              | c a m   i         d a l       b   |\n",
      "              | o r b   m         e n i o     a   |\n",
      "              | ó e a   i c e     - c b r   s l t |\n",
      "              | l l l c n r s f g b e e v   e h r |\n",
      "              | a i h a o o t r a a i l a   r a o |\n",
      "              | t n o n s c i e m r r u l r e d v |\n",
      "              | r h t o o h o v b r o l h i n o ã |\n",
      "              | a a a a s e u o á o s a o o o r o |\n",
      "--------------+-----------------------------------+\n",
      "   alcoólatra |<.>. . . . . . . 1 . . . . . . . . |\n",
      "   amarelinha | .<.>. . . . . . 1 . . . . . . . . |\n",
      "   cambalhota | . .<.>. . . . . 1 . . . . . . . . |\n",
      "        canoa | . . .<.>. . . . 1 . . . . . . . . |\n",
      "   criminosos | . . . .<.>. . . 1 . . . . . . . . |\n",
      "       croche | . . . . .<.>. . 1 . . . . . . . . |\n",
      "       estiou | . . . . . .<.>. . . . . . . . . . |\n",
      "        frevo | . . . . . . .<.>1 . . . . . . . . |\n",
      "        gambá | . . . . . . . .<2>. . . . . . . . |\n",
      "joão-de-barro | . . . . . . . . 1<.>. . . . . . . |\n",
      "    lanceiros | . . . . . . . . 1 .<.>. . . . . . |\n",
      "     libelula | . . . . . . . . 1 . .<.>. . . . . |\n",
      "      orvalho | . . . . . . . . 1 . . .<.>. . . . |\n",
      "          rio | . . . . . . 1 . . . . . .<.>. . . |\n",
      "       sereno | . . . . . . . . 1 . . . . .<.>. . |\n",
      "  trabalhador | . . . . . . . . 1 . . . . . .<.>. |\n",
      "       trovão | . . . . . . . . 1 . . . . . . .<.>|\n",
      "--------------+-----------------------------------+\n",
      "(row = reference; col = test)\n",
      "\n"
     ]
    }
   ],
   "source": [
    "from nltk.metrics import ConfusionMatrix\n",
    "esperado = [\n",
    "\"croche\",\n",
    "\"gambá\",\n",
    "\"amarelinha\",\n",
    "\"trabalhador\",\n",
    "\"canoa\",\n",
    "\"sereno\",\n",
    "\"rio\",\n",
    "\"trovão\",\n",
    "\"libelula\",\n",
    "\"orvalho\",\n",
    "\"joão-de-barro\",\n",
    "\"criminosos\",\n",
    "\"lanceiros\",\n",
    "\"frevo\",\n",
    "\"cambalhota\",\n",
    "\"alcoólatra\",\n",
    "\"gambá\"]\n",
    "\n",
    "previsto = [\n",
    "\"gambá\",\n",
    "\"gambá\",\n",
    "\"gambá\",\n",
    "\"gambá\",\n",
    "\"gambá\",\n",
    "\"gambá\",\n",
    "\"estiou\",\n",
    "\"gambá\",\n",
    "\"gambá\",\n",
    "\"gambá\",\n",
    "\"gambá\",\n",
    "\"gambá\",\n",
    "\"gambá\",\n",
    "\"gambá\",\n",
    "\"gambá\",\n",
    "\"gambá\",\n",
    "\"gambá\"]\n",
    "\n",
    "matriz = ConfusionMatrix(esperado, previsto)\n",
    "print(matriz)"
   ]
  },
  {
   "cell_type": "code",
   "execution_count": 22,
   "metadata": {},
   "outputs": [
    {
     "name": "stdout",
     "output_type": "stream",
     "text": [
      "               precision    recall  f1-score   support\n",
      "\n",
      "   alcoólatra       0.00      0.00      0.00         1\n",
      "   amarelinha       0.00      0.00      0.00         1\n",
      "   cambalhota       0.00      0.00      0.00         1\n",
      "        canoa       0.00      0.00      0.00         1\n",
      "   criminosos       0.00      0.00      0.00         1\n",
      "       croche       0.00      0.00      0.00         1\n",
      "       estiou       0.00      0.00      0.00         0\n",
      "        frevo       0.00      0.00      0.00         1\n",
      "        gambá       0.12      1.00      0.22         2\n",
      "joão-de-barro       0.00      0.00      0.00         1\n",
      "    lanceiros       0.00      0.00      0.00         1\n",
      "     libelula       0.00      0.00      0.00         1\n",
      "      orvalho       0.00      0.00      0.00         1\n",
      "          rio       0.00      0.00      0.00         1\n",
      "       sereno       0.00      0.00      0.00         1\n",
      "  trabalhador       0.00      0.00      0.00         1\n",
      "       trovão       0.00      0.00      0.00         1\n",
      "\n",
      "     accuracy                           0.12        17\n",
      "    macro avg       0.01      0.06      0.01        17\n",
      " weighted avg       0.01      0.12      0.03        17\n",
      "\n"
     ]
    },
    {
     "name": "stderr",
     "output_type": "stream",
     "text": [
      "/home/matheus/snap/jupyter/common/lib/python3.7/site-packages/sklearn/metrics/_classification.py:1221: UndefinedMetricWarning: Precision and F-score are ill-defined and being set to 0.0 in labels with no predicted samples. Use `zero_division` parameter to control this behavior.\n",
      "  _warn_prf(average, modifier, msg_start, len(result))\n",
      "/home/matheus/snap/jupyter/common/lib/python3.7/site-packages/sklearn/metrics/_classification.py:1221: UndefinedMetricWarning: Recall and F-score are ill-defined and being set to 0.0 in labels with no true samples. Use `zero_division` parameter to control this behavior.\n",
      "  _warn_prf(average, modifier, msg_start, len(result))\n"
     ]
    }
   ],
   "source": [
    "print(classification_report(esperado, previsto))"
   ]
  },
  {
   "cell_type": "code",
   "execution_count": null,
   "metadata": {},
   "outputs": [],
   "source": []
  }
 ],
 "metadata": {
  "kernelspec": {
   "display_name": "Python 3",
   "language": "python",
   "name": "python3"
  },
  "language_info": {
   "codemirror_mode": {
    "name": "ipython",
    "version": 3
   },
   "file_extension": ".py",
   "mimetype": "text/x-python",
   "name": "python",
   "nbconvert_exporter": "python",
   "pygments_lexer": "ipython3",
   "version": "3.7.3"
  }
 },
 "nbformat": 4,
 "nbformat_minor": 2
}
