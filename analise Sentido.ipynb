{
 "cells": [
  {
   "cell_type": "code",
   "execution_count": 1,
   "metadata": {},
   "outputs": [
    {
     "name": "stderr",
     "output_type": "stream",
     "text": [
      "/home/matheus/snap/jupyter/common/lib/python3.7/site-packages/joblib/_multiprocessing_helpers.py:45: UserWarning: [Errno 13] Permission denied.  joblib will operate in serial mode\n",
      "  warnings.warn('%s.  joblib will operate in serial mode' % (e,))\n"
     ]
    }
   ],
   "source": [
    "from sklearn.metrics import classification_report\n",
    "import nltk\n",
    "\n",
    "#Base de dados de palavras polissemicas\n",
    "base = [('nao tenho conta no banco do bradesco', 'banco_onde_saca_dinheiro'),\n",
    "        ('ele tem 850 reais no banco', 'banco_onde_saca_dinheiro'),\n",
    "        ('ontem fui ao banco sacar dinheiro', 'banco_onde_saca_dinheiro'),\n",
    "        ('amanhã vou ao banco', 'banco_onde_saca_dinheiro'),\n",
    "        ('Uma mulher levou um homem morto ao banco, no interior de São Paulo, para receber a aposentadoria', 'banco_onde_saca_dinheiro'),\n",
    "        ('Acharam o banco onde o Senador do DEM, Chico Rodrigues, tem conta:', 'banco_onde_saca_dinheiro'),\n",
    "        ('Governo promete não emprestar dinheiro ao Novo Banco', 'banco_onde_saca_dinheiro'),\n",
    "        ('Agora q vi a resposta. Isso mesmo. Não acontece nada com o banco, mas o dinheiro ja pago na fraude não retorna. São uns ladrões!', 'banco_onde_saca_dinheiro'),\n",
    "        ('Alá,o cara pega fila de banco no século 2020 kkkkk', 'banco_onde_saca_dinheiro'),\n",
    "        ('Se tem um canto onde vc passa raiva e ri horrores ao msm tempo, esse canto com certeza é do lado de fora de um banco', 'banco_onde_saca_dinheiro'),\n",
    "        ('É melhor se informar!! Ele não é patrocinada pelo BB, é mesmo se fosse o Banco do Brasil não é do Bolsonaro!', 'banco_onde_saca_dinheiro'),\n",
    "        ('Nova nota de Real que o Banco Central está preparando, com vistas a facilitar a vida dos corruptos. Porque ninguém merece aquele bolo de dinheiro todo, né?', 'banco_onde_saca_dinheiro'),\n",
    "        ('Para assaltantes de banco, dinheiro na cueca é pouco!!!!!!', 'banco_onde_saca_dinheiro'),\n",
    "        ('Os bancos estão dando prêmios pras pessoas cadastrarem o pix. BANCO dando DINHEIRO pra vc se cadastrar num serviço GRATUITO.', 'banco_onde_saca_dinheiro'),\n",
    "        ('A Bunda do Rodrigo Maia cabe mais dinheiro que no Banco Central', 'banco_onde_saca_dinheiro'),\n",
    "        ('Os seus sinais foram assaltos a banco(que vc praticou), dinheiro na cueca, que José Guimarães(PT) escondeu, corrupção passiva, estelionato eleitoral, sonegação fiscal, lavagem de dinheiro, que o Lula cometeu e jornalismo militante e faccioso que vc pratica.', 'banco_onde_saca_dinheiro'),\n",
    "        ('Agora to com dinheiro preso no banco , maneiro pô', 'banco_onde_saca_dinheiro'),\n",
    "        ('Você que conta dinheiro quando levanta no banco, se faltar vais fazer o quê?', 'banco_onde_saca_dinheiro'),\n",
    "        ('A mina que Levou o Idoso morto Pro Banco pra Pegar o Dinheiro do Velho?', 'banco_onde_saca_dinheiro'),\n",
    "        ('A Caixa não é um banco. É uma repartição pública que guarda dinheiro', 'banco_onde_saca_dinheiro'),\n",
    "        ('só me liga pra pedir dinheiro virei banco agr', 'banco_onde_saca_dinheiro'),\n",
    "        ('Tu não ver rico postando foto da conta no banco  , mais pobre não pode pega 1000 reais já vai tirar foto do dinheiro kkkkkkkk', 'banco_onde_saca_dinheiro'),\n",
    "        ('Não pode ter UNIVERSIDADE, mas pode pegar o dinheiro do Banco do Brasil e enfiar no Banco BTG Pactual????????????????', 'banco_onde_saca_dinheiro'),\n",
    "        ('devolvi o dinheiro que me estornaram de uma compra duplicada no cartão e o banco cancelou só no outro dia, a pessoa agradeceu pela honestidade e eu fiquei tipo (?), é o básico, mas o mundo tá tão virado que uma coisa pequena dessas já vira motivo de gratidão', 'banco_onde_saca_dinheiro'),\n",
    "        ('O banco levou td o meu dinheiro e agr eu não sei se eu pago a conta do buteco do dealer ou a do agiota', 'banco_onde_saca_dinheiro'),\n",
    "        ('Espero que o Marcos Brazrio esteja indo no banco sacar o dinheiro pra comprar o Pedro!!', 'banco_onde_saca_dinheiro'),\n",
    "        ('eu pisco e o Banco do Brasil tira dinheiro da minha conta, vtf', 'banco_onde_saca_dinheiro'),\n",
    "        ('Odeio pessoas que ficam me perguntando se eu tenho dinheiro, caralho tento cara de banco?', 'banco_onde_saca_dinheiro'),\n",
    "        ('Não sei sacar dinheiro no banco mas sei a fórmula de Bhaskara', 'banco_onde_saca_dinheiro'),\n",
    "        \n",
    "        ('Como poderia fazer para inserir os dados da imagem abaixo no banco de dados que criei?','banco_de_dados'),\n",
    "        ('amanhã tenho prova de banco de dados','banco_de_dados'),\n",
    "        ('Mds, banco de dados era uma área q antes de entrar na facul eu já n qria seguir e é logo a q meu pai ta me botando pressão','banco_de_dados'),\n",
    "        ('Bancos de dados ou bases de dados são conjuntos de arquivos relacionados entre si com registros sobre pessoas, lugares ou coisas.','banco_de_dados'),\n",
    "        ('Tenho trabalho de banco de dados pra fazer mas nunca mais terminei de arrumar meu quarto','banco_de_dados'),\n",
    "        ('Domingo chato. Pensei em trabalhar, mas descobri que não consigo acessar meu banco de dados pelo PC de casa. Droga!','banco_de_dados'),\n",
    "        ('Ia usar a tarde de hoje pra fazer parte de um exercício longo e difícil de Banco de Dados, mas meus pais resolveram fazer um churrasco','banco_de_dados'),\n",
    "        ('eu procurando fotos no banco de dados','banco_de_dados'),\n",
    "        ('Fui lá perguntar se topam criar um banco de dados para pessoas com HIV para evitar que elas contaminem outras pessoas. Ainda citei o meio LGBT como principal grupo que fazem isso.','banco_de_dados'),\n",
    "        ('Bolsonaro apoia estrupador? Não é isso que ouço é tanto que ele é a favor do banco de dados de estrupadores, este grupo globo dos marinhos só lorotas','banco_de_dados'),\n",
    "        ('eu acho incrível. devem ter um banco de dados. surreal','banco_de_dados'),\n",
    "        ('Tá achando que eu sou banco de dados, pq n é possível','banco_de_dados'),\n",
    "        ('Curso de Banco de Dados SQL','banco_de_dados'),\n",
    "        ('Que isso gente banco de dados e coisa linda de Deus, e um dogma de TI, Todo mundo so acredita pq tem fé hahahaaha','banco_de_dados'),\n",
    "        ('Eu odeio banco de dados','banco_de_dados'),\n",
    "        ('Então deixa eu falar também. Trabalho com banco de dados a mais de 20 anos. E com Big Data a pouco tempo. O seu trabalho me ajudou a entrar nas no campo do Python e do pandas. Obrigado.','banco_de_dados'),\n",
    "        ('Um simples select no banco de dados mostraria todas irregularidades: SELECT * FROM compras WHERE produto =  \"mascara\" AND preço > 3.00','banco_de_dados'),\n",
    "        ('O que vc acha de utilizar o título na vacinação. TSE tem o maior banco de dados do Brasil. Fica fácil mapear e aplicar a lei pra quem não vacinou','banco_de_dados'),\n",
    "        ('que banco de dados, fernanda?? isso é um hd externo','banco_de_dados'),\n",
    "        ('Você trabalha como analista de banco de dados ?','banco_de_dados'),\n",
    "        ('Dica da semana: não façam bagunça no banco de dados, alguém vai ter que resolver e essa pessoa vai se f*der','banco_de_dados'),\n",
    "        ('Achei muito, MUITO interessante a matéria/profissão de banco de dados.','banco_de_dados'),\n",
    "        ('Estudando banco de dados','banco_de_dados'),\n",
    "        ('Vamos lançar um banco de dados inovador para consolidar informações sobre os talentos do sul.','banco_de_dados'),\n",
    "        ('Engenharia da comp e banco de dados kk','banco_de_dados'),\n",
    "        ('o B da blusa é de \"banco de dados e o dinheiro da michelle bolsonaro\"','banco_de_dados'),\n",
    "        ('E eu que apaguei o banco de dados do sistema na segunda semana na nova empresa?','banco_de_dados'),\n",
    "        ('Desculpa so tem gostosa no meu banco de dados de elogio','banco_de_dados'),\n",
    "        ('Valeu pelo tweet, entendi que preciso estudar mais banco de dados','banco_de_dados'),\n",
    "        ('Todo dia eu adio o trabalho de banco de dados, vou fazer nos últimos dias como sempre rs','banco_de_dados'),\n",
    "        \n",
    "        ('Banco de Sangue de Parintins promove campanha emergencial','banco_de_sangue'),\n",
    "        ('Que tal doar sangue no feriado? Banco de Sangue em Petrópolis faz apelo','banco_de_sangue'),\n",
    "        ('De acordo com a médica hematologista responsável pelo Banco de Sangue Serum, Dra. Katia Buratta, o uso de plasma convalescente não é uma novidade na medicina.','banco_de_sangue'),\n",
    "        ('Banco de Sangue do Paraná precisa de doação:','banco_de_sangue'),\n",
    "        ('O Banco de Sangue de Macaé está com o ESTOQUE SUPER BAIXO, em um nível alarmante!','banco_de_sangue'),\n",
    "        ('Eu n lembro muito mas era da mina que era um Banco de Sangue e a gente shippava 10 anos trás, né?','banco_de_sangue'),\n",
    "        ('O Banco de Sangue Herbet de Souza fica na Avenida Boulevard 28 de setembro, 109, ao lado do Hospital Universitário Pedro Ernesto.','banco_de_sangue'),\n",
    "        ('doem pro Edilberto Pericles Faria no Hospital Pedro Ernesto não precisa ser O+, só doar q eles trocam no banco de sangue','banco_de_sangue'),\n",
    "        ('hemato e banco de sangue? pra tu que trabalha e gosta dessa parte da clínica é uma boa vai lá na fé','banco_de_sangue'),\n",
    "        ('Recebi uma mensagem do banco de sangue de Faro dizendo q estão com muita carência do meu tipo sanguíneo e fiquei triste demais pq eu queria MUITO doar pra ajudar mas eu to doente','banco_de_sangue'),\n",
    "        ('Vim no banco de sangue, quando a médica viu meu tipo o olho dela brilhou','banco_de_sangue'),\n",
    "        ('eu vejo coisa de banco de sangue e fico super triste pq é meu sonho doar mas n posso','banco_de_sangue'),\n",
    "        ('Elas se ofereceram? E o que você fez? Abriu um banco de doação de sangue para necessitados?!','banco_de_sangue'),\n",
    "        ('As fdj nao passam de uma estratégia para a maçonaria tere um banco de sangue regular, evidentemente','banco_de_sangue'),\n",
    "        ('Guys URGENTE! O hospital Samaritano aqui de SP tá com estoque 0 no banco de sangue, principalmente de sangue O-, quem puder passar lá pra doar vai ajudar bastante! Eu mesmo estou vendo de ir lá o quanto antes!','banco_de_sangue'),\n",
    "        ('O - é doador universal mas qualquer tipo de sangue precisa doar, sempre tá em falta no banco de sangue','banco_de_sangue'),\n",
    "        ('coisa linda é isso de banco de sangue , né?! lugar onde você deixa enquanto e o tanto q pode e pega qndo e qnto precisa !','banco_de_sangue'),\n",
    "        ('A vida inteira minha mãe me disse que meu tipo sanguíneo era O+, fui doar sangue porque o banco de sangue desse tipo ta vaziao e nem era o meu sangue de verdade','banco_de_sangue'),\n",
    "        ('E o banco de sangue que me chamou pra doar de novo, amei, já até marquei, doem sangue!','banco_de_sangue'),\n",
    "        ('Acho que até o final do mês eu vou no banco de sangue doar um pouco','banco_de_sangue'),\n",
    "        ('Eu confirmei com o banco de sangue que ia lá amanhã doar sangue, só esqueci que fiz tatuagem','banco_de_sangue'),\n",
    "        ('Doação de sangue é o processo pelo qual um doador voluntário tem seu sangue coletado para armazenamento em um banco de sangue ou hemocentro para um uso subsequente em uma transfusão de sangue.','banco_de_sangue'),\n",
    "        ('O moço do meu lado perguntou se eu trabalhava no banco de sangue e  disse que se eu parasse de chorar ele ia lá doar sangue ????? ','banco_de_sangue'),\n",
    "        ('acabei de perceber que meu sangue é quase que inútil no banco sanguíneo','banco_de_sangue'),\n",
    "        ('Recebi uma mensagem do banco de sangue de Faro dizendo q estão com muita carência do meu tipo sanguíneo e fiquei triste demais pq eu queria MUITO doar pra ajudar mas eu to doente','banco_de_sangue'),\n",
    "        ('os AB recebem de geral a gente só recebe de O, e geralmente tem falta de O em banco sanguineo pau no nosso cool','banco_de_sangue'),\n",
    "        ('na semana passada eu disse que tava chateada porque não doei sangue esse ano dai ontem a moça do banco de sangue me ligou dizendo que meu tipo sanguíneo esta em falta amanhã to indo doar, parece que adivinharam','banco_de_sangue'),\n",
    "        ('meu professor explicando grupo sanguíneo em 3 aulas, não entendi nada... a mocinha do banco de sangue aqui do hospital me ensinando em 5 mins, entendi tudo','banco_de_sangue'),\n",
    "        ('Pessoal, infelizmente o meu avô voltou para o hospital e precisa novamente de sangue... O tipo sanguíneo dele é O-, mas o banco de sangue está precisando repor, então doe independente qual for o seu tipo sanguíneo! ','banco_de_sangue'),\n",
    "        ('Alice está recebendo transfusão de sangue de 8 em 8 horas, então qualquer doação para o banco de sangue dela é uma contribuição FUNDAMENTAL para o tratamento e melhora dessa menininha que já demonstrou força para vencer essa luta.','banco_de_sangue'),\n",
    "        ('O banco de sangue público em Cuiabá (MT Hemocentro) está com baixo estoque, sobretudo do tipo sanguíneo O+,  O-  e A+. Agende sua doação voluntária de sangue por meio dos telefones (65)3623-0044 e (65)98433-0624 ou acesse:','banco_de_sangue'),\n",
    "        ('Muito triste com a notícia de que o banco de sangue pra 0- da negativado na região, vocês têm noção que é o tipo sanguíneo mais difícil de encontrar por aqui né?','banco_de_sangue'),\n",
    "        \n",
    "        ('ele estava sentado no banco de traz', 'banco_de_sentar'),\n",
    "        ('comprei um banco', 'banco_de_sentar'),\n",
    "        ('esqueci minha bolsa no banco do carro', 'banco_de_sentar'),\n",
    "        ('No banco do carona ela é maravilhosa','banco_de_sentar'),\n",
    "        ('me deixou no banco pra isso?','banco_de_sentar'),\n",
    "        ('e sabe o que é capaz? se o Cássio for pro banco, ele vai querer sair se aparecer proposta','banco_de_sentar'),\n",
    "        ('Até quando vão deixar o Lucão no banco? O garoto sempre foi destaque nas categorias de base, sempre foi convocado para a seleção, vamos aguentar o F.Miguel falhando até quando? Tem que testar o garoto urgentemente.','banco_de_sentar'),\n",
    "        ('Martin Silva fez muito mais pelo Vasco da Gama e foi para o banco de reservas, para o próprio Fernando Miguel.','banco_de_sentar'),\n",
    "        ('O Craque Neto tinha feito uma pergunta, Por que o Cássio não pode ficar no banco? ','banco_de_sentar'),\n",
    "        ('Cássio já viveu fase ruim em 2016, foi para o banco e voltou melhor para ser campeão brasileiro e tri paulista. Não tem nada errado em voltar ao banco hoje. Deveria ser um processo normal num ambiente profissional.','banco_de_sentar'),\n",
    "        ('Não consigo entender o motivo do Wesley ter saído do time. Foi o melhor do Palmeiras nos últimos jogos e do nada foi pro banco. Os treinadores não se ajudam também. Não é difícil ver o mínimo.','banco_de_sentar'),\n",
    "        ('ontem eu quis desesperadamente a sua companhia lá naquele banco da praça, quis ficar ali com você a noite toda se pudesse.','banco_de_sentar'),\n",
    "        ('Recomendo ao Sr a sentar-se no banco da praça e dar milho aos pombos... Sua época já passou!','banco_de_sentar'),\n",
    "        ('Minha filha... ela bateu no banco da praça, eu voei por cima dela, caí no chão... foi um desastre','banco_de_sentar'),\n",
    "        ('Visão de um date comigo se vc fosse me levar pra namorar no banco da praça','banco_de_sentar'),\n",
    "        ('Banco de reserva kkkkklll','banco_de_sentar'),\n",
    "        ('Poha pprt derruba o banco da praça e sacanagem','banco_de_sentar'),\n",
    "        ('Deitado no banco da praça comendo uma broa de amendoim isso não tem preço','banco_de_sentar'),\n",
    "        ('voce + eu + banco da praça = amor','banco_de_sentar'),\n",
    "        ('q mentira a visão é tu desmaiado num banco da praça da 19','banco_de_sentar'),\n",
    "        ('só o carlos alberto de nóbrega sentado no banco da praça online','banco_de_sentar'),\n",
    "        ('Banco? Só se for banco da \"Praça é Nossa\" do SBT, porque o Futebolzinho dele é uma piada sem nenhuma graça!!!','banco_de_sentar'),\n",
    "        ('ok corona eh uma bosta mas poder sentar no banco de trás do uber sem se sentir mal educado eh mt daora','banco_de_sentar'),\n",
    "        ('fui sentar em um banco lá na avenida litorânea e adivinhem?????? cai pois calculei o espaço errado!','banco_de_sentar'),\n",
    "        ('Aconteceu comigo, mas eu tava de tpm e puxei o cara do banco e gritei pra mulher sentar KKKKKKKK','banco_de_sentar'),\n",
    "        ('Sentar no banco da frente.','banco_de_sentar'),\n",
    "        ('Oi vc poderia tirar sua filha de dois anos de um banco e colocar ela no seu colo pra algum adulto SENTAR?','banco_de_sentar'),\n",
    "        ('depois que tu aprende a sentar a bunda no banco do carro e ir p qualquer lugar, caminhar de novo vira uma missão!','banco_de_sentar'),\n",
    "        ('dia bom pra sentar no banco de uma praça e falar besteira...soltar um \"tá esfriando, vamo pra casa\".','banco_de_sentar'),\n",
    "        ('Meu Deus a real Alagoas tá fazendo banco que eu nem consigo sentar mais, apertadissimo pqp','banco_de_sentar'),\n",
    "        ('depois de anos pegando uber e só indo no banco de trás me senti bem ao sentar no banco da frente com uma moça dirigindo','banco_de_sentar'),\n",
    "        ('um banco daqueles de praça que você senta e vem o guardinha falar \"não pode sentar aí não pq esse banco é do david bowie\"','banco_de_sentar'),\n",
    "        ('a velha levantando do banco preferencial pra sentar no normal minha senhora vc tem 80 anos','banco_de_sentar'),\n",
    "        ('Sim, mas pq ela faz abdução sem sentar no banco?!????????','banco_de_sentar'),\n",
    "        ('alguém quer beber uma cerveja e sentar nos banco da avenid do imperial?','banco_de_sentar'),\n",
    "        ('Eu Tenho nervoso de sentar com gente espaçosa no ônibus,a pessoa senta no banco dela e na metade do meu, cacete','banco_de_sentar'),\n",
    "        ('Eu só queria ser o banco do carro da Lara Silva, ela vai sentar nele direto QUE HONRA MEU DEUS','banco_de_sentar'),\n",
    "        ('e o uber q falou pra eu sentar no banco da frente, passava nem sinal de wifi taquipariu','banco_de_sentar'),\n",
    "        ('firmino finalmente acordou e foi sentar no banco','banco_de_sentar'),\n",
    "        ('Nossa que vontade de sentar no banco na porta do bloco c no meio da aula pra conversar com a panelinha','banco_de_sentar'),\n",
    "        ('sentei no banco da praça', 'banco_de_sentar'),\n",
    "       \n",
    "        \n",
    "       ('se cuida pra n leva uma bala perdida tambem sebosa','bala_de_arma'),\n",
    "       ('mais perigosa q bala perdida é mulher traída kkkkkkkk','bala_de_arma'),\n",
    "       ('Coração arrasado, diz mãe de rapaz morto por bala perdida dentro de casa no Rio','bala_de_arma'),\n",
    "       ('Jovem de 23 anos é atingido por bala perdida dentro de casa, no Catumbi, e morre nos braços da irmã','bala_de_arma'),\n",
    "       ('Papai do céu obrigado pelo livramento por ter guardado a vida do meu pai , ele tinha acabado de sentar no sofá e quase atingido por uma bala perdida ','bala_de_arma'),\n",
    "       ('Quer acabar cmg, é ver notícia que criança foi estuprada, torturada, que morreu por bala perdida etc.. Meu Deus, como tem gnt que tem coragem de fazer tanta maldade com as nossas criancinhas cara ? Choro muito !','bala_de_arma'),\n",
    "       ('Homem que atira pra todos os lados um dia morre de bala perdida','bala_de_arma'),\n",
    "       ('quem frequenta o ibiz* se não morrer de covid morre de bala perdida, né','bala_de_arma'),\n",
    "       ('vi um vídeo do presidente falando que vai pra Balsas, tomara que ele não ache uma bala perdida não, pera','bala_de_arma'),\n",
    "       ('Jovem morre após ser atingido por bala perdida dentro de casa no Morro da Coroa','bala_de_arma'),\n",
    "       ('Bloco de carnaval homenageia jovem morto por bala perdida no Rio de Janeiro','bala_de_arma'),\n",
    "       ('Homem que passeava com cachorro é morto por bala perdida','bala_de_arma'),\n",
    "       ('Vídeo mostra ação que deixou homem morto por bala perdida','bala_de_arma'),\n",
    "       ('Perícia reconstitui morte de menina de 2 anos atingida por bala perdida','bala_de_arma'),\n",
    "       ('Justiça desarquiva caso de menina de 2 anos que morreu ao ser atingida por bala perdida','bala_de_arma'),\n",
    "       ('Policial sofre tiro de bala perdida','bala_de_arma'),\n",
    "       ('Defesa pede apuração do caso de menina morta por bala perdida','bala_de_arma'),\n",
    "       ('Ele foi vítima de uma bala perdida enquanto estava no útero e morreu no domingo ','bala_de_arma'),\n",
    "       ('Chefe de facção em Fortaleza vai a julgamento por chacina e morte de mulher alvo de bala perdida','bala_de_arma'),\n",
    "       ('Adolescente que tomava banho em cachoeira com o pai em MT é ferido no abdômen por bala perdida','bala_de_arma'),\n",
    "       ('Estudante morre após ser atingido por bala perdida em casa no Rio ','bala_de_arma'),\n",
    "       ('Criança de 7 anos morre após ser atingida por bala perdida no RJ','bala_de_arma'),\n",
    "       ('Rio de Janeiro registra 78 vítimas de bala perdida com 13 mortes em 2020 ','bala_de_arma'),\n",
    "       ('Menino de 12 anos é atingido por bala perdida quando saía do supermercado no RJ','bala_de_arma'),\n",
    "       ('Inocente é morto em São Paulo vítima de bala perdida ','bala_de_arma'),\n",
    "       ('Homem morre vítima de bala perdida no Rio de Janeiro','bala_de_arma'),\n",
    "       ('Criança é atingida por bala perdida no Rio de Janeiro','bala_de_arma'),\n",
    "       ('Técnico de telefonia morre atingido por bala perdida em São Paulo ','bala_de_arma'),\n",
    "       ('Menino de 8 anos é vítima de bala perdida no Rio de Janeiro','bala_de_arma'),\n",
    "       ('Mulher é atingida por bala perdida quando voltava de salão de beleza na Vila Kennedy','bala_de_arma'),\n",
    "       \n",
    "       ('Algodão doce e bala','bala_de_doce'),\n",
    "       ('Só queria um pote cheio de doce “bala, chiclete e pirulito”','bala_de_doce'),\n",
    "       ('Avisa lá que tem bala, doce, MD','bala_de_doce'),\n",
    "       ('ENTÃO A GNT SO APRECIA O GOSTO DA BALA DE DOCE DE LEITE','bala_de_doce'),\n",
    "       ('Balas Sortidas Rocs Galo Doce 200g','bala_de_doce'),\n",
    "       ('Bala Fruittella Doce de Leite c/16 - Perfetti','bala_de_doce'),\n",
    "       ('expositor de balas e doces','bala_de_doce'),\n",
    "       ('40 Forminhas Doce Bala de Coco Azul Royal Dec. Festas','bala_de_doce'),\n",
    "       ('SUPER BALA DE DOCE DE LEITE COM 3 INGREDIENTES','bala_de_doce'),\n",
    "       ('COMO FAZER BALA (DOCE) DE GENGIBRE','bala_de_doce'),\n",
    "       ('BALA DE LEITE MAIS FÁCIL DO MUNDO, COM 2 INGREDIENTES, RENDE MUITO','bala_de_doce'),\n",
    "       ('Bala de doce de leite ','bala_de_doce'),\n",
    "       ('Bala de Coco Caramelizada','bala_de_doce'),\n",
    "       ('expositor de balas e doces em acrilico','bala_de_doce'),\n",
    "       ('Suporte para Balas e Doces Escada 3 Andares ','bala_de_doce'),\n",
    "       ('BALA DE COCO QUE DERRETE NA BOCA ','bala_de_doce'),\n",
    "       ('ature Alto $$$ com BALINHAS DE LEITE NINHO','bala_de_doce'),\n",
    "       ('BALA DE GOMA | APENAS 3 INGREDIENTES | SUPER FÁCIL','bala_de_doce'),\n",
    "       ('Taça Inclinada Média Doces E Balas Bombons','bala_de_doce'),\n",
    "       ('Ele foi de vendedor de bala a um dos PRINCIPAISJOGADORES de HANDEBOL do BRASIL','bala_de_doce'),\n",
    "       ('Homem morre após consumir muita bala','bala_de_doce'),\n",
    "       ('moradores de Santa Mônica distribuem doces pelo Dia das Crianças','bala_de_doce'),\n",
    "       ('Cocadinha branca: deliciosa idéia para adoçar seu dia','bala_de_doce'),\n",
    "       ('Deputado quer modificar comercialização de doces e guloseimas no RJ','bala_de_doce'),\n",
    "       ('Casal que tem o sonho de se casar resolve ir para as ruas vender balas','bala_de_doce'),\n",
    "       ('Casal vende balas para realizar sonho de casar','bala_de_doce'),\n",
    "       ('VENDENDO BALAS PARA CASAR','bala_de_doce'),\n",
    "       ('Sonho: casal vende balas para casar e ganha surpresa especial','bala_de_doce'),\n",
    "       ('Depois de vender balas no semáforo, noivo realiza o sonho de casar','bala_de_doce'),\n",
    "       ('Casal realiza sonho de casamento com dinheiro da venda de balas em semáforo','bala_de_doce'),\n",
    "       ('Casal vende balas em semáforo de Jundiaí para realizar sonho do casamento','bala_de_doce')\n",
    "       ]\n"
   ]
  },
  {
   "cell_type": "code",
   "execution_count": 2,
   "metadata": {},
   "outputs": [],
   "source": [
    "stopwordsnltk = nltk.corpus.stopwords.words('portuguese')\n",
    "\n",
    "\n",
    "def fazstemmer(texto):\n",
    "    stemmer = nltk.stem.RSLPStemmer()\n",
    "    frasessstemming = []\n",
    "    for (palavras, sentido) in texto:\n",
    "        comstemming = [str(stemmer.stem(p))\n",
    "                       for p in palavras.split() if p not in stopwordsnltk]\n",
    "        frasessstemming.append((comstemming, sentido))\n",
    "    return frasessstemming\n",
    "\n",
    "\n",
    "frasescomstemming = fazstemmer(base)\n",
    "\n",
    "\n",
    "def buscapalavras(frases):\n",
    "    todaspalavras = []\n",
    "    for (palavras, sentido) in frases:\n",
    "        todaspalavras.extend(palavras)\n",
    "    return todaspalavras\n",
    "\n",
    "\n",
    "palavras = buscapalavras(frasescomstemming)\n",
    "\n",
    "\n",
    "def buscafrequencia(palavras):\n",
    "    palavras = nltk.FreqDist(palavras)\n",
    "    return palavras\n",
    "\n",
    "\n",
    "frequenciatreinamento = buscafrequencia(palavras)\n",
    "\n",
    "\n",
    "def busca_palavrasunicas(frequencia):\n",
    "    freq = frequencia.keys()\n",
    "    return freq\n",
    "\n",
    "\n",
    "palavrasunicas = busca_palavrasunicas(frequenciatreinamento)\n",
    "\n",
    "\n",
    "def extraipalavras(documento):\n",
    "    doc = set(documento)\n",
    "    caracteristicas = {}\n",
    "    for palavras in palavrasunicas:\n",
    "        caracteristicas['%s' % palavras] = (palavras in doc)\n",
    "    return caracteristicas\n",
    "\n",
    "\n",
    "basecompleta = nltk.classify.apply_features(extraipalavras, frasescomstemming)\n",
    "\n",
    "classificador = nltk.NaiveBayesClassifier.train(basecompleta)\n",
    "\n",
    "def extrai_palavras(documento):\n",
    "    doc = set(documento)\n",
    "    caracteristicas = {}\n",
    "    for palavras in palavrasunicas:\n",
    "        caracteristicas['%s' % palavras] = (palavras in doc)\n",
    "    return caracteristicas\n",
    "    \n"
   ]
  },
  {
   "cell_type": "code",
   "execution_count": 3,
   "metadata": {},
   "outputs": [
    {
     "name": "stdout",
     "output_type": "stream",
     "text": [
      "-----------------------\n",
      "banco_onde_saca_dinheiro: 0.050977\n",
      "banco_de_dados: 0.115612\n",
      "banco_de_sangue: 0.065759\n",
      "banco_de_sentar: 99.757739\n",
      "bala_de_arma: 0.000006\n",
      "bala_de_doce: 0.009907\n"
     ]
    }
   ],
   "source": [
    "teste = 'Luna tirou o aplicativo do banco do meu celular, oooh garotinha filho'\n",
    "testestem = []\n",
    "stemmer = nltk.stem.RSLPStemmer()\n",
    "for (palavrastreinamento) in teste.split():\n",
    "    comstem = [p for p in palavrastreinamento.split()]\n",
    "    testestem.append(str(stemmer.stem(comstem[0])))\n",
    "\n",
    "nova_frase = extrai_palavras(testestem)\n",
    "\n",
    "distribuicao = classificador.prob_classify(nova_frase)\n",
    "print('-----------------------')\n",
    "for classe in distribuicao.samples():\n",
    "    print(\"%s: %f\" % (classe, (distribuicao.prob(classe)*100)))"
   ]
  },
  {
   "cell_type": "code",
   "execution_count": 4,
   "metadata": {},
   "outputs": [
    {
     "name": "stdout",
     "output_type": "stream",
     "text": [
      "-----------------------\n",
      "banco_onde_saca_dinheiro: 0.006956\n",
      "banco_de_dados: 0.359913\n",
      "banco_de_sangue: 0.002282\n",
      "banco_de_sentar: 0.108193\n",
      "bala_de_arma: 0.000025\n",
      "bala_de_doce: 99.522631\n"
     ]
    }
   ],
   "source": [
    "teste = 'e se eu fizesse um \"banco de dados\" com muitas Fanart de #SeikenDensetsu? como seriá?'\n",
    "testestem = []\n",
    "stemmer = nltk.stem.RSLPStemmer()\n",
    "for (palavrastreinamento) in teste.split():\n",
    "    comstem = [p for p in palavrastreinamento.split()]\n",
    "    testestem.append(str(stemmer.stem(comstem[0])))\n",
    "\n",
    "nova_frase = extrai_palavras(testestem)\n",
    "\n",
    "distribuicao = classificador.prob_classify(nova_frase)\n",
    "print('-----------------------')\n",
    "for classe in distribuicao.samples():\n",
    "    print(\"%s: %f\" % (classe, (distribuicao.prob(classe)*100)))"
   ]
  },
  {
   "cell_type": "code",
   "execution_count": 5,
   "metadata": {},
   "outputs": [
    {
     "name": "stdout",
     "output_type": "stream",
     "text": [
      "-----------------------\n",
      "banco_onde_saca_dinheiro: 0.000050\n",
      "banco_de_dados: 0.000006\n",
      "banco_de_sangue: 0.000000\n",
      "banco_de_sentar: 0.000096\n",
      "bala_de_arma: 0.002247\n",
      "bala_de_doce: 99.997601\n"
     ]
    }
   ],
   "source": [
    "teste = 'vi uma receita de bala de goma muito da hora <3'\n",
    "testestem = []\n",
    "stemmer = nltk.stem.RSLPStemmer()\n",
    "for (palavrastreinamento) in teste.split():\n",
    "    comstem = [p for p in palavrastreinamento.split()]\n",
    "    testestem.append(str(stemmer.stem(comstem[0])))\n",
    "\n",
    "nova_frase = extrai_palavras(testestem)\n",
    "\n",
    "distribuicao = classificador.prob_classify(nova_frase)\n",
    "print('-----------------------')\n",
    "for classe in distribuicao.samples():\n",
    "    print(\"%s: %f\" % (classe, (distribuicao.prob(classe)*100)))"
   ]
  },
  {
   "cell_type": "code",
   "execution_count": 6,
   "metadata": {},
   "outputs": [
    {
     "name": "stdout",
     "output_type": "stream",
     "text": [
      "-----------------------\n",
      "banco_onde_saca_dinheiro: 1.194069\n",
      "banco_de_dados: 68.839554\n",
      "banco_de_sangue: 0.004611\n",
      "banco_de_sentar: 26.672324\n",
      "bala_de_arma: 0.000032\n",
      "bala_de_doce: 3.289409\n"
     ]
    }
   ],
   "source": [
    "teste = 'Governo quer reunir em banco de dados informações genéticas de 100 mil brasileiros'\n",
    "testestem = []\n",
    "stemmer = nltk.stem.RSLPStemmer()\n",
    "for (palavrastreinamento) in teste.split():\n",
    "    comstem = [p for p in palavrastreinamento.split()]\n",
    "    testestem.append(str(stemmer.stem(comstem[0])))\n",
    "\n",
    "nova_frase = extrai_palavras(testestem)\n",
    "\n",
    "distribuicao = classificador.prob_classify(nova_frase)\n",
    "print('-----------------------')\n",
    "for classe in distribuicao.samples():\n",
    "    print(\"%s: %f\" % (classe, (distribuicao.prob(classe)*100)))"
   ]
  },
  {
   "cell_type": "code",
   "execution_count": 7,
   "metadata": {},
   "outputs": [
    {
     "name": "stdout",
     "output_type": "stream",
     "text": [
      "-----------------------\n",
      "banco_onde_saca_dinheiro: 0.448127\n",
      "banco_de_dados: 1.088993\n",
      "banco_de_sangue: 83.535651\n",
      "banco_de_sentar: 11.611918\n",
      "bala_de_arma: 0.000031\n",
      "bala_de_doce: 3.315280\n"
     ]
    }
   ],
   "source": [
    "teste = 'Banco de sangue da BP recebe acreditação internacional '\n",
    "testestem = []\n",
    "stemmer = nltk.stem.RSLPStemmer()\n",
    "for (palavrastreinamento) in teste.split():\n",
    "    comstem = [p for p in palavrastreinamento.split()]\n",
    "    testestem.append(str(stemmer.stem(comstem[0])))\n",
    "\n",
    "nova_frase = extrai_palavras(testestem)\n",
    "\n",
    "distribuicao = classificador.prob_classify(nova_frase)\n",
    "print('-----------------------')\n",
    "for classe in distribuicao.samples():\n",
    "    print(\"%s: %f\" % (classe, (distribuicao.prob(classe)*100)))"
   ]
  },
  {
   "cell_type": "code",
   "execution_count": 8,
   "metadata": {},
   "outputs": [
    {
     "name": "stdout",
     "output_type": "stream",
     "text": [
      "-----------------------\n",
      "banco_onde_saca_dinheiro: 0.199404\n",
      "banco_de_dados: 0.064462\n",
      "banco_de_sangue: 0.000205\n",
      "banco_de_sentar: 0.110073\n",
      "bala_de_arma: 0.001042\n",
      "bala_de_doce: 99.624813\n"
     ]
    }
   ],
   "source": [
    "teste = 'Jovem é preso com colete à prova de balas, arma e munições, em Governador Valadares '\n",
    "testestem = []\n",
    "stemmer = nltk.stem.RSLPStemmer()\n",
    "for (palavrastreinamento) in teste.split():\n",
    "    comstem = [p for p in palavrastreinamento.split()]\n",
    "    testestem.append(str(stemmer.stem(comstem[0])))\n",
    "\n",
    "nova_frase = extrai_palavras(testestem)\n",
    "\n",
    "distribuicao = classificador.prob_classify(nova_frase)\n",
    "print('-----------------------')\n",
    "for classe in distribuicao.samples():\n",
    "    print(\"%s: %f\" % (classe, (distribuicao.prob(classe)*100)))"
   ]
  },
  {
   "cell_type": "code",
   "execution_count": 9,
   "metadata": {},
   "outputs": [
    {
     "name": "stdout",
     "output_type": "stream",
     "text": [
      "-----------------------\n",
      "banco_onde_saca_dinheiro: 0.000220\n",
      "banco_de_dados: 0.000262\n",
      "banco_de_sangue: 0.000001\n",
      "banco_de_sentar: 0.034608\n",
      "bala_de_arma: 0.033681\n",
      "bala_de_doce: 99.931229\n"
     ]
    }
   ],
   "source": [
    "teste = 'Fini lança sua primeira linha de balas veganas ‘Frutiê’'\n",
    "testestem = []\n",
    "stemmer = nltk.stem.RSLPStemmer()\n",
    "for (palavrastreinamento) in teste.split():\n",
    "    comstem = [p for p in palavrastreinamento.split()]\n",
    "    testestem.append(str(stemmer.stem(comstem[0])))\n",
    "\n",
    "nova_frase = extrai_palavras(testestem)\n",
    "\n",
    "distribuicao = classificador.prob_classify(nova_frase)\n",
    "print('-----------------------')\n",
    "for classe in distribuicao.samples():\n",
    "    print(\"%s: %f\" % (classe, (distribuicao.prob(classe)*100)))"
   ]
  },
  {
   "cell_type": "code",
   "execution_count": 10,
   "metadata": {},
   "outputs": [
    {
     "name": "stdout",
     "output_type": "stream",
     "text": [
      "-----------------------\n",
      "banco_onde_saca_dinheiro: 0.023452\n",
      "banco_de_dados: 0.096224\n",
      "banco_de_sangue: 0.002959\n",
      "banco_de_sentar: 99.663623\n",
      "bala_de_arma: 0.000002\n",
      "bala_de_doce: 0.213741\n"
     ]
    }
   ],
   "source": [
    "teste = 'A Fazenda: sentada violenta de Jojo Todynho faz banco quebrar durante atividade: “Puta que pariu!”'\n",
    "testestem = []\n",
    "stemmer = nltk.stem.RSLPStemmer()\n",
    "for (palavrastreinamento) in teste.split():\n",
    "    comstem = [p for p in palavrastreinamento.split()]\n",
    "    testestem.append(str(stemmer.stem(comstem[0])))\n",
    "\n",
    "nova_frase = extrai_palavras(testestem)\n",
    "\n",
    "distribuicao = classificador.prob_classify(nova_frase)\n",
    "print('-----------------------')\n",
    "for classe in distribuicao.samples():\n",
    "    print(\"%s: %f\" % (classe, (distribuicao.prob(classe)*100)))"
   ]
  },
  {
   "cell_type": "code",
   "execution_count": 11,
   "metadata": {},
   "outputs": [
    {
     "name": "stdout",
     "output_type": "stream",
     "text": [
      "-----------------------\n",
      "banco_onde_saca_dinheiro: 0.042105\n",
      "banco_de_dados: 0.548131\n",
      "banco_de_sangue: 0.023095\n",
      "banco_de_sentar: 98.419376\n",
      "bala_de_arma: 0.000009\n",
      "bala_de_doce: 0.967284\n"
     ]
    }
   ],
   "source": [
    "teste = 'CS:GO: Sharks dispensa supLex e coloca Luken no banco de reservas'\n",
    "testestem = []\n",
    "stemmer = nltk.stem.RSLPStemmer()\n",
    "for (palavrastreinamento) in teste.split():\n",
    "    comstem = [p for p in palavrastreinamento.split()]\n",
    "    testestem.append(str(stemmer.stem(comstem[0])))\n",
    "\n",
    "nova_frase = extrai_palavras(testestem)\n",
    "\n",
    "distribuicao = classificador.prob_classify(nova_frase)\n",
    "print('-----------------------')\n",
    "for classe in distribuicao.samples():\n",
    "    print(\"%s: %f\" % (classe, (distribuicao.prob(classe)*100)))"
   ]
  },
  {
   "cell_type": "code",
   "execution_count": 12,
   "metadata": {},
   "outputs": [
    {
     "name": "stdout",
     "output_type": "stream",
     "text": [
      "-----------------------\n",
      "banco_onde_saca_dinheiro: 0.038255\n",
      "banco_de_dados: 0.145111\n",
      "banco_de_sangue: 1.354899\n",
      "banco_de_sentar: 97.741509\n",
      "bala_de_arma: 0.000002\n",
      "bala_de_doce: 0.720225\n"
     ]
    }
   ],
   "source": [
    "teste = 'Jogador do Confiança passa mal no banco de reservas e sai de ambulância'\n",
    "testestem = []\n",
    "stemmer = nltk.stem.RSLPStemmer()\n",
    "for (palavrastreinamento) in teste.split():\n",
    "    comstem = [p for p in palavrastreinamento.split()]\n",
    "    testestem.append(str(stemmer.stem(comstem[0])))\n",
    "\n",
    "nova_frase = extrai_palavras(testestem)\n",
    "\n",
    "distribuicao = classificador.prob_classify(nova_frase)\n",
    "print('-----------------------')\n",
    "for classe in distribuicao.samples():\n",
    "    print(\"%s: %f\" % (classe, (distribuicao.prob(classe)*100)))"
   ]
  },
  {
   "cell_type": "code",
   "execution_count": 13,
   "metadata": {},
   "outputs": [
    {
     "name": "stdout",
     "output_type": "stream",
     "text": [
      "-----------------------\n",
      "banco_onde_saca_dinheiro: 0.000022\n",
      "banco_de_dados: 0.000007\n",
      "banco_de_sangue: 0.000000\n",
      "banco_de_sentar: 0.000358\n",
      "bala_de_arma: 0.005135\n",
      "bala_de_doce: 99.994477\n"
     ]
    }
   ],
   "source": [
    "teste = 'Adolescente ameaça mãe e só para com tiro de bala de borracha'\n",
    "testestem = []\n",
    "stemmer = nltk.stem.RSLPStemmer()\n",
    "for (palavrastreinamento) in teste.split():\n",
    "    comstem = [p for p in palavrastreinamento.split()]\n",
    "    testestem.append(str(stemmer.stem(comstem[0])))\n",
    "\n",
    "nova_frase = extrai_palavras(testestem)\n",
    "\n",
    "distribuicao = classificador.prob_classify(nova_frase)\n",
    "print('-----------------------')\n",
    "for classe in distribuicao.samples():\n",
    "    print(\"%s: %f\" % (classe, (distribuicao.prob(classe)*100)))"
   ]
  },
  {
   "cell_type": "code",
   "execution_count": 14,
   "metadata": {},
   "outputs": [
    {
     "name": "stdout",
     "output_type": "stream",
     "text": [
      "-----------------------\n",
      "banco_onde_saca_dinheiro: 28.450667\n",
      "banco_de_dados: 1.654181\n",
      "banco_de_sangue: 0.069851\n",
      "banco_de_sentar: 54.222083\n",
      "bala_de_arma: 0.000148\n",
      "bala_de_doce: 15.603069\n"
     ]
    }
   ],
   "source": [
    "teste = 'Banco Central registra recorde de remessas de dólares para Brasil'\n",
    "testestem = []\n",
    "stemmer = nltk.stem.RSLPStemmer()\n",
    "for (palavrastreinamento) in teste.split():\n",
    "    comstem = [p for p in palavrastreinamento.split()]\n",
    "    testestem.append(str(stemmer.stem(comstem[0])))\n",
    "\n",
    "nova_frase = extrai_palavras(testestem)\n",
    "\n",
    "distribuicao = classificador.prob_classify(nova_frase)\n",
    "print('-----------------------')\n",
    "for classe in distribuicao.samples():\n",
    "    print(\"%s: %f\" % (classe, (distribuicao.prob(classe)*100)))"
   ]
  },
  {
   "cell_type": "code",
   "execution_count": 15,
   "metadata": {},
   "outputs": [
    {
     "name": "stdout",
     "output_type": "stream",
     "text": [
      "-----------------------\n",
      "banco_onde_saca_dinheiro: 82.839362\n",
      "banco_de_dados: 3.257246\n",
      "banco_de_sangue: 0.270401\n",
      "banco_de_sentar: 8.079382\n",
      "bala_de_arma: 0.000006\n",
      "bala_de_doce: 5.553603\n"
     ]
    }
   ],
   "source": [
    "teste = 'Retirar dinheiro de bancos públicos não resolve dívida do país'\n",
    "testestem = []\n",
    "stemmer = nltk.stem.RSLPStemmer()\n",
    "for (palavrastreinamento) in teste.split():\n",
    "    comstem = [p for p in palavrastreinamento.split()]\n",
    "    testestem.append(str(stemmer.stem(comstem[0])))\n",
    "\n",
    "nova_frase = extrai_palavras(testestem)\n",
    "\n",
    "distribuicao = classificador.prob_classify(nova_frase)\n",
    "print('-----------------------')\n",
    "for classe in distribuicao.samples():\n",
    "    print(\"%s: %f\" % (classe, (distribuicao.prob(classe)*100)))"
   ]
  },
  {
   "cell_type": "code",
   "execution_count": 16,
   "metadata": {},
   "outputs": [
    {
     "name": "stdout",
     "output_type": "stream",
     "text": [
      "-----------------------\n",
      "banco_onde_saca_dinheiro: 0.000779\n",
      "banco_de_dados: 0.000279\n",
      "banco_de_sangue: 0.000003\n",
      "banco_de_sentar: 0.019941\n",
      "bala_de_arma: 0.035930\n",
      "bala_de_doce: 99.943067\n"
     ]
    }
   ],
   "source": [
    "teste = 'Marca espanhola de balas abre primeira franquia no RS'\n",
    "testestem = []\n",
    "stemmer = nltk.stem.RSLPStemmer()\n",
    "for (palavrastreinamento) in teste.split():\n",
    "    comstem = [p for p in palavrastreinamento.split()]\n",
    "    testestem.append(str(stemmer.stem(comstem[0])))\n",
    "\n",
    "nova_frase = extrai_palavras(testestem)\n",
    "\n",
    "distribuicao = classificador.prob_classify(nova_frase)\n",
    "print('-----------------------')\n",
    "for classe in distribuicao.samples():\n",
    "    print(\"%s: %f\" % (classe, (distribuicao.prob(classe)*100)))"
   ]
  },
  {
   "cell_type": "code",
   "execution_count": 17,
   "metadata": {},
   "outputs": [
    {
     "name": "stdout",
     "output_type": "stream",
     "text": [
      "-----------------------\n",
      "banco_onde_saca_dinheiro: 0.084970\n",
      "banco_de_dados: 1.143646\n",
      "banco_de_sangue: 87.068829\n",
      "banco_de_sentar: 9.618181\n",
      "bala_de_arma: 0.000019\n",
      "bala_de_doce: 2.084355\n"
     ]
    }
   ],
   "source": [
    "teste = 'Banco de Sangue Hemato muda de endereço e aumenta capacidade de atendimento'\n",
    "testestem = []\n",
    "stemmer = nltk.stem.RSLPStemmer()\n",
    "for (palavrastreinamento) in teste.split():\n",
    "    comstem = [p for p in palavrastreinamento.split()]\n",
    "    testestem.append(str(stemmer.stem(comstem[0])))\n",
    "\n",
    "nova_frase = extrai_palavras(testestem)\n",
    "\n",
    "distribuicao = classificador.prob_classify(nova_frase)\n",
    "print('-----------------------')\n",
    "for classe in distribuicao.samples():\n",
    "    print(\"%s: %f\" % (classe, (distribuicao.prob(classe)*100)))"
   ]
  },
  {
   "cell_type": "code",
   "execution_count": 18,
   "metadata": {},
   "outputs": [
    {
     "name": "stdout",
     "output_type": "stream",
     "text": [
      "                         |           b |\n",
      "                         |           a |\n",
      "                         |           n |\n",
      "                         |           c |\n",
      "                         |           o |\n",
      "                         |           _ |\n",
      "                         |           o |\n",
      "                         |           n |\n",
      "                         |           d |\n",
      "                         |       b b e |\n",
      "                         |     b a a _ |\n",
      "                         |     a n n s |\n",
      "                         | b b n c c a |\n",
      "                         | a a c o o c |\n",
      "                         | l l o _ _ a |\n",
      "                         | a a _ d d _ |\n",
      "                         | _ _ d e e d |\n",
      "                         | d d e _ _ i |\n",
      "                         | e e _ s s n |\n",
      "                         | _ _ d a e h |\n",
      "                         | a d a n n e |\n",
      "                         | r o d g t i |\n",
      "                         | m c o u a r |\n",
      "                         | a e s e r o |\n",
      "-------------------------+-------------+\n",
      "            bala_de_arma |<.>1 . . . . |\n",
      "            bala_de_doce | .<4>. . . . |\n",
      "          banco_de_dados | . 2<.>. . . |\n",
      "         banco_de_sangue | . . .<2>. . |\n",
      "         banco_de_sentar | . 1 . .<2>. |\n",
      "banco_onde_saca_dinheiro | . . . . 2<1>|\n",
      "-------------------------+-------------+\n",
      "(row = reference; col = test)\n",
      "\n"
     ]
    }
   ],
   "source": [
    "from nltk.metrics import ConfusionMatrix\n",
    "esperado = [\n",
    "\"banco_onde_saca_dinheiro\",\n",
    "\"banco_de_dados\",\n",
    "\"bala_de_doce\",\n",
    "\"banco_de_dados\",\n",
    "\"banco_de_sangue\",\n",
    "\"bala_de_doce\",\n",
    "\"bala_de_doce\",\n",
    "\"banco_de_sentar\",\n",
    "\"banco_de_sentar\",\n",
    "\"banco_de_sentar\",\n",
    "\"bala_de_arma\",\n",
    "\"banco_onde_saca_dinheiro\",\n",
    "\"banco_onde_saca_dinheiro\",\n",
    "\"bala_de_doce\",\n",
    "\"banco_de_sangue\"]\n",
    "\n",
    "previsto = [\n",
    "\"banco_de_sentar\",\n",
    "\"bala_de_doce\",\n",
    "\"bala_de_doce\",\n",
    "\"bala_de_doce\",\n",
    "\"banco_de_sangue\",\n",
    "\"bala_de_doce\",\n",
    "\"bala_de_doce\",\n",
    "\"banco_de_sentar\",\n",
    "\"bala_de_doce\",\n",
    "\"banco_de_sentar\",\n",
    "\"bala_de_doce\",\n",
    "\"banco_de_sentar\",\n",
    "\"banco_onde_saca_dinheiro\",\n",
    "\"bala_de_doce\",\n",
    "\"banco_de_sangue\"]\n",
    "\n",
    "matriz = ConfusionMatrix(esperado, previsto)\n",
    "print(matriz)"
   ]
  },
  {
   "cell_type": "code",
   "execution_count": 19,
   "metadata": {},
   "outputs": [
    {
     "name": "stdout",
     "output_type": "stream",
     "text": [
      "                          precision    recall  f1-score   support\n",
      "\n",
      "          banco_de_dados       0.00      0.00      0.00         1\n",
      "         banco_de_sangue       0.50      1.00      0.67         4\n",
      "         banco_de_sentar       0.00      0.00      0.00         2\n",
      "banco_onde_saca_dinheiro       1.00      1.00      1.00         2\n",
      "            bala_de_doce       0.50      0.67      0.57         3\n",
      "            bala_de_arma       1.00      0.33      0.50         3\n",
      "\n",
      "                accuracy                           0.60        15\n",
      "               macro avg       0.50      0.50      0.46        15\n",
      "            weighted avg       0.57      0.60      0.53        15\n",
      "\n"
     ]
    },
    {
     "name": "stderr",
     "output_type": "stream",
     "text": [
      "/home/matheus/snap/jupyter/common/lib/python3.7/site-packages/sklearn/metrics/_classification.py:1221: UndefinedMetricWarning: Precision and F-score are ill-defined and being set to 0.0 in labels with no predicted samples. Use `zero_division` parameter to control this behavior.\n",
      "  _warn_prf(average, modifier, msg_start, len(result))\n"
     ]
    }
   ],
   "source": [
    "target_names = ['banco_de_dados', 'banco_de_sangue', 'banco_de_sentar', 'banco_onde_saca_dinheiro', 'bala_de_doce', 'bala_de_arma']\n",
    "\n",
    "print(classification_report(esperado, previsto, target_names=target_names))"
   ]
  },
  {
   "cell_type": "code",
   "execution_count": null,
   "metadata": {},
   "outputs": [],
   "source": []
  }
 ],
 "metadata": {
  "kernelspec": {
   "display_name": "Python 3",
   "language": "python",
   "name": "python3"
  },
  "language_info": {
   "codemirror_mode": {
    "name": "ipython",
    "version": 3
   },
   "file_extension": ".py",
   "mimetype": "text/x-python",
   "name": "python",
   "nbconvert_exporter": "python",
   "pygments_lexer": "ipython3",
   "version": "3.7.3"
  }
 },
 "nbformat": 4,
 "nbformat_minor": 2
}
